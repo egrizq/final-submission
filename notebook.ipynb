{
 "cells": [
  {
   "cell_type": "markdown",
   "metadata": {},
   "source": [
    "# Submission Akhir: Menyelesaikan Permasalahan Institusi Pendidikan"
   ]
  },
  {
   "cell_type": "markdown",
   "metadata": {},
   "source": [
    "- Nama: Muhammad Rizq Ramadhan\n",
    "- Email: rizq.ramadhan17@gmail.com\n",
    "- Id Dicoding: 3219478"
   ]
  },
  {
   "cell_type": "markdown",
   "metadata": {},
   "source": [
    "## Persiapan"
   ]
  },
  {
   "cell_type": "markdown",
   "metadata": {},
   "source": [
    "### Menyiapkan library yang dibutuhkan"
   ]
  },
  {
   "cell_type": "code",
   "execution_count": 136,
   "metadata": {},
   "outputs": [],
   "source": [
    "import numpy as np\n",
    "import pandas as pd\n",
    "import matplotlib.pyplot as plt\n",
    "import seaborn as sns"
   ]
  },
  {
   "cell_type": "markdown",
   "metadata": {},
   "source": [
    "### Menyiapkan data yang akan digunakan"
   ]
  },
  {
   "cell_type": "markdown",
   "metadata": {},
   "source": [
    "## Data Understanding"
   ]
  },
  {
   "cell_type": "code",
   "execution_count": 2,
   "metadata": {},
   "outputs": [],
   "source": [
    "df = pd.read_csv('data.csv', sep=';')"
   ]
  },
  {
   "cell_type": "code",
   "execution_count": 3,
   "metadata": {},
   "outputs": [],
   "source": [
    "pd.set_option(\"display.max_columns\", None)"
   ]
  },
  {
   "cell_type": "code",
   "execution_count": 4,
   "metadata": {},
   "outputs": [
    {
     "name": "stdout",
     "output_type": "stream",
     "text": [
      "<class 'pandas.core.frame.DataFrame'>\n",
      "RangeIndex: 4424 entries, 0 to 4423\n",
      "Data columns (total 37 columns):\n",
      " #   Column                                        Non-Null Count  Dtype  \n",
      "---  ------                                        --------------  -----  \n",
      " 0   Marital_status                                4424 non-null   int64  \n",
      " 1   Application_mode                              4424 non-null   int64  \n",
      " 2   Application_order                             4424 non-null   int64  \n",
      " 3   Course                                        4424 non-null   int64  \n",
      " 4   Daytime_evening_attendance                    4424 non-null   int64  \n",
      " 5   Previous_qualification                        4424 non-null   int64  \n",
      " 6   Previous_qualification_grade                  4424 non-null   float64\n",
      " 7   Nacionality                                   4424 non-null   int64  \n",
      " 8   Mothers_qualification                         4424 non-null   int64  \n",
      " 9   Fathers_qualification                         4424 non-null   int64  \n",
      " 10  Mothers_occupation                            4424 non-null   int64  \n",
      " 11  Fathers_occupation                            4424 non-null   int64  \n",
      " 12  Admission_grade                               4424 non-null   float64\n",
      " 13  Displaced                                     4424 non-null   int64  \n",
      " 14  Educational_special_needs                     4424 non-null   int64  \n",
      " 15  Debtor                                        4424 non-null   int64  \n",
      " 16  Tuition_fees_up_to_date                       4424 non-null   int64  \n",
      " 17  Gender                                        4424 non-null   int64  \n",
      " 18  Scholarship_holder                            4424 non-null   int64  \n",
      " 19  Age_at_enrollment                             4424 non-null   int64  \n",
      " 20  International                                 4424 non-null   int64  \n",
      " 21  Curricular_units_1st_sem_credited             4424 non-null   int64  \n",
      " 22  Curricular_units_1st_sem_enrolled             4424 non-null   int64  \n",
      " 23  Curricular_units_1st_sem_evaluations          4424 non-null   int64  \n",
      " 24  Curricular_units_1st_sem_approved             4424 non-null   int64  \n",
      " 25  Curricular_units_1st_sem_grade                4424 non-null   object \n",
      " 26  Curricular_units_1st_sem_without_evaluations  4424 non-null   int64  \n",
      " 27  Curricular_units_2nd_sem_credited             4424 non-null   int64  \n",
      " 28  Curricular_units_2nd_sem_enrolled             4424 non-null   int64  \n",
      " 29  Curricular_units_2nd_sem_evaluations          4424 non-null   int64  \n",
      " 30  Curricular_units_2nd_sem_approved             4424 non-null   int64  \n",
      " 31  Curricular_units_2nd_sem_grade                4424 non-null   object \n",
      " 32  Curricular_units_2nd_sem_without_evaluations  4424 non-null   int64  \n",
      " 33  Unemployment_rate                             4424 non-null   float64\n",
      " 34  Inflation_rate                                4424 non-null   float64\n",
      " 35  GDP                                           4424 non-null   float64\n",
      " 36  Status                                        4424 non-null   object \n",
      "dtypes: float64(5), int64(29), object(3)\n",
      "memory usage: 1.2+ MB\n"
     ]
    }
   ],
   "source": [
    "df.info()"
   ]
  },
  {
   "cell_type": "markdown",
   "metadata": {},
   "source": [
    "terdapat kesalahan tipe data pada 'Curricular_units_2nd_sem_grade' dan 'Curricular_units_1st_sem_grade' kedua column tersebut harusnya float64, namun akan diperbaiki pada data preparation."
   ]
  },
  {
   "cell_type": "code",
   "execution_count": 5,
   "metadata": {},
   "outputs": [
    {
     "data": {
      "text/html": [
       "<div>\n",
       "<style scoped>\n",
       "    .dataframe tbody tr th:only-of-type {\n",
       "        vertical-align: middle;\n",
       "    }\n",
       "\n",
       "    .dataframe tbody tr th {\n",
       "        vertical-align: top;\n",
       "    }\n",
       "\n",
       "    .dataframe thead th {\n",
       "        text-align: right;\n",
       "    }\n",
       "</style>\n",
       "<table border=\"1\" class=\"dataframe\">\n",
       "  <thead>\n",
       "    <tr style=\"text-align: right;\">\n",
       "      <th></th>\n",
       "      <th>Marital_status</th>\n",
       "      <th>Application_mode</th>\n",
       "      <th>Application_order</th>\n",
       "      <th>Course</th>\n",
       "      <th>Daytime_evening_attendance</th>\n",
       "      <th>Previous_qualification</th>\n",
       "      <th>Previous_qualification_grade</th>\n",
       "      <th>Nacionality</th>\n",
       "      <th>Mothers_qualification</th>\n",
       "      <th>Fathers_qualification</th>\n",
       "      <th>Mothers_occupation</th>\n",
       "      <th>Fathers_occupation</th>\n",
       "      <th>Admission_grade</th>\n",
       "      <th>Displaced</th>\n",
       "      <th>Educational_special_needs</th>\n",
       "      <th>Debtor</th>\n",
       "      <th>Tuition_fees_up_to_date</th>\n",
       "      <th>Gender</th>\n",
       "      <th>Scholarship_holder</th>\n",
       "      <th>Age_at_enrollment</th>\n",
       "      <th>International</th>\n",
       "      <th>Curricular_units_1st_sem_credited</th>\n",
       "      <th>Curricular_units_1st_sem_enrolled</th>\n",
       "      <th>Curricular_units_1st_sem_evaluations</th>\n",
       "      <th>Curricular_units_1st_sem_approved</th>\n",
       "      <th>Curricular_units_1st_sem_grade</th>\n",
       "      <th>Curricular_units_1st_sem_without_evaluations</th>\n",
       "      <th>Curricular_units_2nd_sem_credited</th>\n",
       "      <th>Curricular_units_2nd_sem_enrolled</th>\n",
       "      <th>Curricular_units_2nd_sem_evaluations</th>\n",
       "      <th>Curricular_units_2nd_sem_approved</th>\n",
       "      <th>Curricular_units_2nd_sem_grade</th>\n",
       "      <th>Curricular_units_2nd_sem_without_evaluations</th>\n",
       "      <th>Unemployment_rate</th>\n",
       "      <th>Inflation_rate</th>\n",
       "      <th>GDP</th>\n",
       "      <th>Status</th>\n",
       "    </tr>\n",
       "  </thead>\n",
       "  <tbody>\n",
       "    <tr>\n",
       "      <th>count</th>\n",
       "      <td>4424.000000</td>\n",
       "      <td>4424.000000</td>\n",
       "      <td>4424.000000</td>\n",
       "      <td>4424.000000</td>\n",
       "      <td>4424.000000</td>\n",
       "      <td>4424.000000</td>\n",
       "      <td>4424.000000</td>\n",
       "      <td>4424.000000</td>\n",
       "      <td>4424.000000</td>\n",
       "      <td>4424.000000</td>\n",
       "      <td>4424.000000</td>\n",
       "      <td>4424.000000</td>\n",
       "      <td>4424.000000</td>\n",
       "      <td>4424.000000</td>\n",
       "      <td>4424.000000</td>\n",
       "      <td>4424.000000</td>\n",
       "      <td>4424.000000</td>\n",
       "      <td>4424.000000</td>\n",
       "      <td>4424.000000</td>\n",
       "      <td>4424.000000</td>\n",
       "      <td>4424.000000</td>\n",
       "      <td>4424.000000</td>\n",
       "      <td>4424.000000</td>\n",
       "      <td>4424.000000</td>\n",
       "      <td>4424.000000</td>\n",
       "      <td>4424</td>\n",
       "      <td>4424.000000</td>\n",
       "      <td>4424.000000</td>\n",
       "      <td>4424.000000</td>\n",
       "      <td>4424.000000</td>\n",
       "      <td>4424.000000</td>\n",
       "      <td>4424</td>\n",
       "      <td>4424.000000</td>\n",
       "      <td>4424.000000</td>\n",
       "      <td>4424.000000</td>\n",
       "      <td>4424.000000</td>\n",
       "      <td>4424</td>\n",
       "    </tr>\n",
       "    <tr>\n",
       "      <th>unique</th>\n",
       "      <td>NaN</td>\n",
       "      <td>NaN</td>\n",
       "      <td>NaN</td>\n",
       "      <td>NaN</td>\n",
       "      <td>NaN</td>\n",
       "      <td>NaN</td>\n",
       "      <td>NaN</td>\n",
       "      <td>NaN</td>\n",
       "      <td>NaN</td>\n",
       "      <td>NaN</td>\n",
       "      <td>NaN</td>\n",
       "      <td>NaN</td>\n",
       "      <td>NaN</td>\n",
       "      <td>NaN</td>\n",
       "      <td>NaN</td>\n",
       "      <td>NaN</td>\n",
       "      <td>NaN</td>\n",
       "      <td>NaN</td>\n",
       "      <td>NaN</td>\n",
       "      <td>NaN</td>\n",
       "      <td>NaN</td>\n",
       "      <td>NaN</td>\n",
       "      <td>NaN</td>\n",
       "      <td>NaN</td>\n",
       "      <td>NaN</td>\n",
       "      <td>800</td>\n",
       "      <td>NaN</td>\n",
       "      <td>NaN</td>\n",
       "      <td>NaN</td>\n",
       "      <td>NaN</td>\n",
       "      <td>NaN</td>\n",
       "      <td>785</td>\n",
       "      <td>NaN</td>\n",
       "      <td>NaN</td>\n",
       "      <td>NaN</td>\n",
       "      <td>NaN</td>\n",
       "      <td>3</td>\n",
       "    </tr>\n",
       "    <tr>\n",
       "      <th>top</th>\n",
       "      <td>NaN</td>\n",
       "      <td>NaN</td>\n",
       "      <td>NaN</td>\n",
       "      <td>NaN</td>\n",
       "      <td>NaN</td>\n",
       "      <td>NaN</td>\n",
       "      <td>NaN</td>\n",
       "      <td>NaN</td>\n",
       "      <td>NaN</td>\n",
       "      <td>NaN</td>\n",
       "      <td>NaN</td>\n",
       "      <td>NaN</td>\n",
       "      <td>NaN</td>\n",
       "      <td>NaN</td>\n",
       "      <td>NaN</td>\n",
       "      <td>NaN</td>\n",
       "      <td>NaN</td>\n",
       "      <td>NaN</td>\n",
       "      <td>NaN</td>\n",
       "      <td>NaN</td>\n",
       "      <td>NaN</td>\n",
       "      <td>NaN</td>\n",
       "      <td>NaN</td>\n",
       "      <td>NaN</td>\n",
       "      <td>NaN</td>\n",
       "      <td>0.0</td>\n",
       "      <td>NaN</td>\n",
       "      <td>NaN</td>\n",
       "      <td>NaN</td>\n",
       "      <td>NaN</td>\n",
       "      <td>NaN</td>\n",
       "      <td>0.0</td>\n",
       "      <td>NaN</td>\n",
       "      <td>NaN</td>\n",
       "      <td>NaN</td>\n",
       "      <td>NaN</td>\n",
       "      <td>Graduate</td>\n",
       "    </tr>\n",
       "    <tr>\n",
       "      <th>freq</th>\n",
       "      <td>NaN</td>\n",
       "      <td>NaN</td>\n",
       "      <td>NaN</td>\n",
       "      <td>NaN</td>\n",
       "      <td>NaN</td>\n",
       "      <td>NaN</td>\n",
       "      <td>NaN</td>\n",
       "      <td>NaN</td>\n",
       "      <td>NaN</td>\n",
       "      <td>NaN</td>\n",
       "      <td>NaN</td>\n",
       "      <td>NaN</td>\n",
       "      <td>NaN</td>\n",
       "      <td>NaN</td>\n",
       "      <td>NaN</td>\n",
       "      <td>NaN</td>\n",
       "      <td>NaN</td>\n",
       "      <td>NaN</td>\n",
       "      <td>NaN</td>\n",
       "      <td>NaN</td>\n",
       "      <td>NaN</td>\n",
       "      <td>NaN</td>\n",
       "      <td>NaN</td>\n",
       "      <td>NaN</td>\n",
       "      <td>NaN</td>\n",
       "      <td>718</td>\n",
       "      <td>NaN</td>\n",
       "      <td>NaN</td>\n",
       "      <td>NaN</td>\n",
       "      <td>NaN</td>\n",
       "      <td>NaN</td>\n",
       "      <td>870</td>\n",
       "      <td>NaN</td>\n",
       "      <td>NaN</td>\n",
       "      <td>NaN</td>\n",
       "      <td>NaN</td>\n",
       "      <td>2209</td>\n",
       "    </tr>\n",
       "    <tr>\n",
       "      <th>mean</th>\n",
       "      <td>1.178571</td>\n",
       "      <td>18.669078</td>\n",
       "      <td>1.727848</td>\n",
       "      <td>8856.642631</td>\n",
       "      <td>0.890823</td>\n",
       "      <td>4.577758</td>\n",
       "      <td>132.613314</td>\n",
       "      <td>1.873192</td>\n",
       "      <td>19.561935</td>\n",
       "      <td>22.275316</td>\n",
       "      <td>10.960895</td>\n",
       "      <td>11.032324</td>\n",
       "      <td>126.978119</td>\n",
       "      <td>0.548373</td>\n",
       "      <td>0.011528</td>\n",
       "      <td>0.113698</td>\n",
       "      <td>0.880651</td>\n",
       "      <td>0.351718</td>\n",
       "      <td>0.248418</td>\n",
       "      <td>23.265145</td>\n",
       "      <td>0.024864</td>\n",
       "      <td>0.709991</td>\n",
       "      <td>6.270570</td>\n",
       "      <td>8.299051</td>\n",
       "      <td>4.706600</td>\n",
       "      <td>NaN</td>\n",
       "      <td>0.137658</td>\n",
       "      <td>0.541817</td>\n",
       "      <td>6.232143</td>\n",
       "      <td>8.063291</td>\n",
       "      <td>4.435805</td>\n",
       "      <td>NaN</td>\n",
       "      <td>0.150316</td>\n",
       "      <td>11.566139</td>\n",
       "      <td>1.228029</td>\n",
       "      <td>0.001969</td>\n",
       "      <td>NaN</td>\n",
       "    </tr>\n",
       "    <tr>\n",
       "      <th>std</th>\n",
       "      <td>0.605747</td>\n",
       "      <td>17.484682</td>\n",
       "      <td>1.313793</td>\n",
       "      <td>2063.566416</td>\n",
       "      <td>0.311897</td>\n",
       "      <td>10.216592</td>\n",
       "      <td>13.188332</td>\n",
       "      <td>6.914514</td>\n",
       "      <td>15.603186</td>\n",
       "      <td>15.343108</td>\n",
       "      <td>26.418253</td>\n",
       "      <td>25.263040</td>\n",
       "      <td>14.482001</td>\n",
       "      <td>0.497711</td>\n",
       "      <td>0.106760</td>\n",
       "      <td>0.317480</td>\n",
       "      <td>0.324235</td>\n",
       "      <td>0.477560</td>\n",
       "      <td>0.432144</td>\n",
       "      <td>7.587816</td>\n",
       "      <td>0.155729</td>\n",
       "      <td>2.360507</td>\n",
       "      <td>2.480178</td>\n",
       "      <td>4.179106</td>\n",
       "      <td>3.094238</td>\n",
       "      <td>NaN</td>\n",
       "      <td>0.690880</td>\n",
       "      <td>1.918546</td>\n",
       "      <td>2.195951</td>\n",
       "      <td>3.947951</td>\n",
       "      <td>3.014764</td>\n",
       "      <td>NaN</td>\n",
       "      <td>0.753774</td>\n",
       "      <td>2.663850</td>\n",
       "      <td>1.382711</td>\n",
       "      <td>2.269935</td>\n",
       "      <td>NaN</td>\n",
       "    </tr>\n",
       "    <tr>\n",
       "      <th>min</th>\n",
       "      <td>1.000000</td>\n",
       "      <td>1.000000</td>\n",
       "      <td>0.000000</td>\n",
       "      <td>33.000000</td>\n",
       "      <td>0.000000</td>\n",
       "      <td>1.000000</td>\n",
       "      <td>95.000000</td>\n",
       "      <td>1.000000</td>\n",
       "      <td>1.000000</td>\n",
       "      <td>1.000000</td>\n",
       "      <td>0.000000</td>\n",
       "      <td>0.000000</td>\n",
       "      <td>95.000000</td>\n",
       "      <td>0.000000</td>\n",
       "      <td>0.000000</td>\n",
       "      <td>0.000000</td>\n",
       "      <td>0.000000</td>\n",
       "      <td>0.000000</td>\n",
       "      <td>0.000000</td>\n",
       "      <td>17.000000</td>\n",
       "      <td>0.000000</td>\n",
       "      <td>0.000000</td>\n",
       "      <td>0.000000</td>\n",
       "      <td>0.000000</td>\n",
       "      <td>0.000000</td>\n",
       "      <td>NaN</td>\n",
       "      <td>0.000000</td>\n",
       "      <td>0.000000</td>\n",
       "      <td>0.000000</td>\n",
       "      <td>0.000000</td>\n",
       "      <td>0.000000</td>\n",
       "      <td>NaN</td>\n",
       "      <td>0.000000</td>\n",
       "      <td>7.600000</td>\n",
       "      <td>-0.800000</td>\n",
       "      <td>-4.060000</td>\n",
       "      <td>NaN</td>\n",
       "    </tr>\n",
       "    <tr>\n",
       "      <th>25%</th>\n",
       "      <td>1.000000</td>\n",
       "      <td>1.000000</td>\n",
       "      <td>1.000000</td>\n",
       "      <td>9085.000000</td>\n",
       "      <td>1.000000</td>\n",
       "      <td>1.000000</td>\n",
       "      <td>125.000000</td>\n",
       "      <td>1.000000</td>\n",
       "      <td>2.000000</td>\n",
       "      <td>3.000000</td>\n",
       "      <td>4.000000</td>\n",
       "      <td>4.000000</td>\n",
       "      <td>117.900000</td>\n",
       "      <td>0.000000</td>\n",
       "      <td>0.000000</td>\n",
       "      <td>0.000000</td>\n",
       "      <td>1.000000</td>\n",
       "      <td>0.000000</td>\n",
       "      <td>0.000000</td>\n",
       "      <td>19.000000</td>\n",
       "      <td>0.000000</td>\n",
       "      <td>0.000000</td>\n",
       "      <td>5.000000</td>\n",
       "      <td>6.000000</td>\n",
       "      <td>3.000000</td>\n",
       "      <td>NaN</td>\n",
       "      <td>0.000000</td>\n",
       "      <td>0.000000</td>\n",
       "      <td>5.000000</td>\n",
       "      <td>6.000000</td>\n",
       "      <td>2.000000</td>\n",
       "      <td>NaN</td>\n",
       "      <td>0.000000</td>\n",
       "      <td>9.400000</td>\n",
       "      <td>0.300000</td>\n",
       "      <td>-1.700000</td>\n",
       "      <td>NaN</td>\n",
       "    </tr>\n",
       "    <tr>\n",
       "      <th>50%</th>\n",
       "      <td>1.000000</td>\n",
       "      <td>17.000000</td>\n",
       "      <td>1.000000</td>\n",
       "      <td>9238.000000</td>\n",
       "      <td>1.000000</td>\n",
       "      <td>1.000000</td>\n",
       "      <td>133.100000</td>\n",
       "      <td>1.000000</td>\n",
       "      <td>19.000000</td>\n",
       "      <td>19.000000</td>\n",
       "      <td>5.000000</td>\n",
       "      <td>7.000000</td>\n",
       "      <td>126.100000</td>\n",
       "      <td>1.000000</td>\n",
       "      <td>0.000000</td>\n",
       "      <td>0.000000</td>\n",
       "      <td>1.000000</td>\n",
       "      <td>0.000000</td>\n",
       "      <td>0.000000</td>\n",
       "      <td>20.000000</td>\n",
       "      <td>0.000000</td>\n",
       "      <td>0.000000</td>\n",
       "      <td>6.000000</td>\n",
       "      <td>8.000000</td>\n",
       "      <td>5.000000</td>\n",
       "      <td>NaN</td>\n",
       "      <td>0.000000</td>\n",
       "      <td>0.000000</td>\n",
       "      <td>6.000000</td>\n",
       "      <td>8.000000</td>\n",
       "      <td>5.000000</td>\n",
       "      <td>NaN</td>\n",
       "      <td>0.000000</td>\n",
       "      <td>11.100000</td>\n",
       "      <td>1.400000</td>\n",
       "      <td>0.320000</td>\n",
       "      <td>NaN</td>\n",
       "    </tr>\n",
       "    <tr>\n",
       "      <th>75%</th>\n",
       "      <td>1.000000</td>\n",
       "      <td>39.000000</td>\n",
       "      <td>2.000000</td>\n",
       "      <td>9556.000000</td>\n",
       "      <td>1.000000</td>\n",
       "      <td>1.000000</td>\n",
       "      <td>140.000000</td>\n",
       "      <td>1.000000</td>\n",
       "      <td>37.000000</td>\n",
       "      <td>37.000000</td>\n",
       "      <td>9.000000</td>\n",
       "      <td>9.000000</td>\n",
       "      <td>134.800000</td>\n",
       "      <td>1.000000</td>\n",
       "      <td>0.000000</td>\n",
       "      <td>0.000000</td>\n",
       "      <td>1.000000</td>\n",
       "      <td>1.000000</td>\n",
       "      <td>0.000000</td>\n",
       "      <td>25.000000</td>\n",
       "      <td>0.000000</td>\n",
       "      <td>0.000000</td>\n",
       "      <td>7.000000</td>\n",
       "      <td>10.000000</td>\n",
       "      <td>6.000000</td>\n",
       "      <td>NaN</td>\n",
       "      <td>0.000000</td>\n",
       "      <td>0.000000</td>\n",
       "      <td>7.000000</td>\n",
       "      <td>10.000000</td>\n",
       "      <td>6.000000</td>\n",
       "      <td>NaN</td>\n",
       "      <td>0.000000</td>\n",
       "      <td>13.900000</td>\n",
       "      <td>2.600000</td>\n",
       "      <td>1.790000</td>\n",
       "      <td>NaN</td>\n",
       "    </tr>\n",
       "    <tr>\n",
       "      <th>max</th>\n",
       "      <td>6.000000</td>\n",
       "      <td>57.000000</td>\n",
       "      <td>9.000000</td>\n",
       "      <td>9991.000000</td>\n",
       "      <td>1.000000</td>\n",
       "      <td>43.000000</td>\n",
       "      <td>190.000000</td>\n",
       "      <td>109.000000</td>\n",
       "      <td>44.000000</td>\n",
       "      <td>44.000000</td>\n",
       "      <td>194.000000</td>\n",
       "      <td>195.000000</td>\n",
       "      <td>190.000000</td>\n",
       "      <td>1.000000</td>\n",
       "      <td>1.000000</td>\n",
       "      <td>1.000000</td>\n",
       "      <td>1.000000</td>\n",
       "      <td>1.000000</td>\n",
       "      <td>1.000000</td>\n",
       "      <td>70.000000</td>\n",
       "      <td>1.000000</td>\n",
       "      <td>20.000000</td>\n",
       "      <td>26.000000</td>\n",
       "      <td>45.000000</td>\n",
       "      <td>26.000000</td>\n",
       "      <td>NaN</td>\n",
       "      <td>12.000000</td>\n",
       "      <td>19.000000</td>\n",
       "      <td>23.000000</td>\n",
       "      <td>33.000000</td>\n",
       "      <td>20.000000</td>\n",
       "      <td>NaN</td>\n",
       "      <td>12.000000</td>\n",
       "      <td>16.200000</td>\n",
       "      <td>3.700000</td>\n",
       "      <td>3.510000</td>\n",
       "      <td>NaN</td>\n",
       "    </tr>\n",
       "  </tbody>\n",
       "</table>\n",
       "</div>"
      ],
      "text/plain": [
       "        Marital_status  Application_mode  Application_order       Course  \\\n",
       "count      4424.000000       4424.000000        4424.000000  4424.000000   \n",
       "unique             NaN               NaN                NaN          NaN   \n",
       "top                NaN               NaN                NaN          NaN   \n",
       "freq               NaN               NaN                NaN          NaN   \n",
       "mean          1.178571         18.669078           1.727848  8856.642631   \n",
       "std           0.605747         17.484682           1.313793  2063.566416   \n",
       "min           1.000000          1.000000           0.000000    33.000000   \n",
       "25%           1.000000          1.000000           1.000000  9085.000000   \n",
       "50%           1.000000         17.000000           1.000000  9238.000000   \n",
       "75%           1.000000         39.000000           2.000000  9556.000000   \n",
       "max           6.000000         57.000000           9.000000  9991.000000   \n",
       "\n",
       "        Daytime_evening_attendance  Previous_qualification  \\\n",
       "count                  4424.000000             4424.000000   \n",
       "unique                         NaN                     NaN   \n",
       "top                            NaN                     NaN   \n",
       "freq                           NaN                     NaN   \n",
       "mean                      0.890823                4.577758   \n",
       "std                       0.311897               10.216592   \n",
       "min                       0.000000                1.000000   \n",
       "25%                       1.000000                1.000000   \n",
       "50%                       1.000000                1.000000   \n",
       "75%                       1.000000                1.000000   \n",
       "max                       1.000000               43.000000   \n",
       "\n",
       "        Previous_qualification_grade  Nacionality  Mothers_qualification  \\\n",
       "count                    4424.000000  4424.000000            4424.000000   \n",
       "unique                           NaN          NaN                    NaN   \n",
       "top                              NaN          NaN                    NaN   \n",
       "freq                             NaN          NaN                    NaN   \n",
       "mean                      132.613314     1.873192              19.561935   \n",
       "std                        13.188332     6.914514              15.603186   \n",
       "min                        95.000000     1.000000               1.000000   \n",
       "25%                       125.000000     1.000000               2.000000   \n",
       "50%                       133.100000     1.000000              19.000000   \n",
       "75%                       140.000000     1.000000              37.000000   \n",
       "max                       190.000000   109.000000              44.000000   \n",
       "\n",
       "        Fathers_qualification  Mothers_occupation  Fathers_occupation  \\\n",
       "count             4424.000000         4424.000000         4424.000000   \n",
       "unique                    NaN                 NaN                 NaN   \n",
       "top                       NaN                 NaN                 NaN   \n",
       "freq                      NaN                 NaN                 NaN   \n",
       "mean                22.275316           10.960895           11.032324   \n",
       "std                 15.343108           26.418253           25.263040   \n",
       "min                  1.000000            0.000000            0.000000   \n",
       "25%                  3.000000            4.000000            4.000000   \n",
       "50%                 19.000000            5.000000            7.000000   \n",
       "75%                 37.000000            9.000000            9.000000   \n",
       "max                 44.000000          194.000000          195.000000   \n",
       "\n",
       "        Admission_grade    Displaced  Educational_special_needs       Debtor  \\\n",
       "count       4424.000000  4424.000000                4424.000000  4424.000000   \n",
       "unique              NaN          NaN                        NaN          NaN   \n",
       "top                 NaN          NaN                        NaN          NaN   \n",
       "freq                NaN          NaN                        NaN          NaN   \n",
       "mean         126.978119     0.548373                   0.011528     0.113698   \n",
       "std           14.482001     0.497711                   0.106760     0.317480   \n",
       "min           95.000000     0.000000                   0.000000     0.000000   \n",
       "25%          117.900000     0.000000                   0.000000     0.000000   \n",
       "50%          126.100000     1.000000                   0.000000     0.000000   \n",
       "75%          134.800000     1.000000                   0.000000     0.000000   \n",
       "max          190.000000     1.000000                   1.000000     1.000000   \n",
       "\n",
       "        Tuition_fees_up_to_date       Gender  Scholarship_holder  \\\n",
       "count               4424.000000  4424.000000         4424.000000   \n",
       "unique                      NaN          NaN                 NaN   \n",
       "top                         NaN          NaN                 NaN   \n",
       "freq                        NaN          NaN                 NaN   \n",
       "mean                   0.880651     0.351718            0.248418   \n",
       "std                    0.324235     0.477560            0.432144   \n",
       "min                    0.000000     0.000000            0.000000   \n",
       "25%                    1.000000     0.000000            0.000000   \n",
       "50%                    1.000000     0.000000            0.000000   \n",
       "75%                    1.000000     1.000000            0.000000   \n",
       "max                    1.000000     1.000000            1.000000   \n",
       "\n",
       "        Age_at_enrollment  International  Curricular_units_1st_sem_credited  \\\n",
       "count         4424.000000    4424.000000                        4424.000000   \n",
       "unique                NaN            NaN                                NaN   \n",
       "top                   NaN            NaN                                NaN   \n",
       "freq                  NaN            NaN                                NaN   \n",
       "mean            23.265145       0.024864                           0.709991   \n",
       "std              7.587816       0.155729                           2.360507   \n",
       "min             17.000000       0.000000                           0.000000   \n",
       "25%             19.000000       0.000000                           0.000000   \n",
       "50%             20.000000       0.000000                           0.000000   \n",
       "75%             25.000000       0.000000                           0.000000   \n",
       "max             70.000000       1.000000                          20.000000   \n",
       "\n",
       "        Curricular_units_1st_sem_enrolled  \\\n",
       "count                         4424.000000   \n",
       "unique                                NaN   \n",
       "top                                   NaN   \n",
       "freq                                  NaN   \n",
       "mean                             6.270570   \n",
       "std                              2.480178   \n",
       "min                              0.000000   \n",
       "25%                              5.000000   \n",
       "50%                              6.000000   \n",
       "75%                              7.000000   \n",
       "max                             26.000000   \n",
       "\n",
       "        Curricular_units_1st_sem_evaluations  \\\n",
       "count                            4424.000000   \n",
       "unique                                   NaN   \n",
       "top                                      NaN   \n",
       "freq                                     NaN   \n",
       "mean                                8.299051   \n",
       "std                                 4.179106   \n",
       "min                                 0.000000   \n",
       "25%                                 6.000000   \n",
       "50%                                 8.000000   \n",
       "75%                                10.000000   \n",
       "max                                45.000000   \n",
       "\n",
       "        Curricular_units_1st_sem_approved Curricular_units_1st_sem_grade  \\\n",
       "count                         4424.000000                           4424   \n",
       "unique                                NaN                            800   \n",
       "top                                   NaN                            0.0   \n",
       "freq                                  NaN                            718   \n",
       "mean                             4.706600                            NaN   \n",
       "std                              3.094238                            NaN   \n",
       "min                              0.000000                            NaN   \n",
       "25%                              3.000000                            NaN   \n",
       "50%                              5.000000                            NaN   \n",
       "75%                              6.000000                            NaN   \n",
       "max                             26.000000                            NaN   \n",
       "\n",
       "        Curricular_units_1st_sem_without_evaluations  \\\n",
       "count                                    4424.000000   \n",
       "unique                                           NaN   \n",
       "top                                              NaN   \n",
       "freq                                             NaN   \n",
       "mean                                        0.137658   \n",
       "std                                         0.690880   \n",
       "min                                         0.000000   \n",
       "25%                                         0.000000   \n",
       "50%                                         0.000000   \n",
       "75%                                         0.000000   \n",
       "max                                        12.000000   \n",
       "\n",
       "        Curricular_units_2nd_sem_credited  Curricular_units_2nd_sem_enrolled  \\\n",
       "count                         4424.000000                        4424.000000   \n",
       "unique                                NaN                                NaN   \n",
       "top                                   NaN                                NaN   \n",
       "freq                                  NaN                                NaN   \n",
       "mean                             0.541817                           6.232143   \n",
       "std                              1.918546                           2.195951   \n",
       "min                              0.000000                           0.000000   \n",
       "25%                              0.000000                           5.000000   \n",
       "50%                              0.000000                           6.000000   \n",
       "75%                              0.000000                           7.000000   \n",
       "max                             19.000000                          23.000000   \n",
       "\n",
       "        Curricular_units_2nd_sem_evaluations  \\\n",
       "count                            4424.000000   \n",
       "unique                                   NaN   \n",
       "top                                      NaN   \n",
       "freq                                     NaN   \n",
       "mean                                8.063291   \n",
       "std                                 3.947951   \n",
       "min                                 0.000000   \n",
       "25%                                 6.000000   \n",
       "50%                                 8.000000   \n",
       "75%                                10.000000   \n",
       "max                                33.000000   \n",
       "\n",
       "        Curricular_units_2nd_sem_approved Curricular_units_2nd_sem_grade  \\\n",
       "count                         4424.000000                           4424   \n",
       "unique                                NaN                            785   \n",
       "top                                   NaN                            0.0   \n",
       "freq                                  NaN                            870   \n",
       "mean                             4.435805                            NaN   \n",
       "std                              3.014764                            NaN   \n",
       "min                              0.000000                            NaN   \n",
       "25%                              2.000000                            NaN   \n",
       "50%                              5.000000                            NaN   \n",
       "75%                              6.000000                            NaN   \n",
       "max                             20.000000                            NaN   \n",
       "\n",
       "        Curricular_units_2nd_sem_without_evaluations  Unemployment_rate  \\\n",
       "count                                    4424.000000        4424.000000   \n",
       "unique                                           NaN                NaN   \n",
       "top                                              NaN                NaN   \n",
       "freq                                             NaN                NaN   \n",
       "mean                                        0.150316          11.566139   \n",
       "std                                         0.753774           2.663850   \n",
       "min                                         0.000000           7.600000   \n",
       "25%                                         0.000000           9.400000   \n",
       "50%                                         0.000000          11.100000   \n",
       "75%                                         0.000000          13.900000   \n",
       "max                                        12.000000          16.200000   \n",
       "\n",
       "        Inflation_rate          GDP    Status  \n",
       "count      4424.000000  4424.000000      4424  \n",
       "unique             NaN          NaN         3  \n",
       "top                NaN          NaN  Graduate  \n",
       "freq               NaN          NaN      2209  \n",
       "mean          1.228029     0.001969       NaN  \n",
       "std           1.382711     2.269935       NaN  \n",
       "min          -0.800000    -4.060000       NaN  \n",
       "25%           0.300000    -1.700000       NaN  \n",
       "50%           1.400000     0.320000       NaN  \n",
       "75%           2.600000     1.790000       NaN  \n",
       "max           3.700000     3.510000       NaN  "
      ]
     },
     "execution_count": 5,
     "metadata": {},
     "output_type": "execute_result"
    }
   ],
   "source": [
    "df.describe(include='all')"
   ]
  },
  {
   "cell_type": "code",
   "execution_count": 6,
   "metadata": {},
   "outputs": [
    {
     "data": {
      "text/plain": [
       "Marital_status                                  0\n",
       "Application_mode                                0\n",
       "Application_order                               0\n",
       "Course                                          0\n",
       "Daytime_evening_attendance                      0\n",
       "Previous_qualification                          0\n",
       "Previous_qualification_grade                    0\n",
       "Nacionality                                     0\n",
       "Mothers_qualification                           0\n",
       "Fathers_qualification                           0\n",
       "Mothers_occupation                              0\n",
       "Fathers_occupation                              0\n",
       "Admission_grade                                 0\n",
       "Displaced                                       0\n",
       "Educational_special_needs                       0\n",
       "Debtor                                          0\n",
       "Tuition_fees_up_to_date                         0\n",
       "Gender                                          0\n",
       "Scholarship_holder                              0\n",
       "Age_at_enrollment                               0\n",
       "International                                   0\n",
       "Curricular_units_1st_sem_credited               0\n",
       "Curricular_units_1st_sem_enrolled               0\n",
       "Curricular_units_1st_sem_evaluations            0\n",
       "Curricular_units_1st_sem_approved               0\n",
       "Curricular_units_1st_sem_grade                  0\n",
       "Curricular_units_1st_sem_without_evaluations    0\n",
       "Curricular_units_2nd_sem_credited               0\n",
       "Curricular_units_2nd_sem_enrolled               0\n",
       "Curricular_units_2nd_sem_evaluations            0\n",
       "Curricular_units_2nd_sem_approved               0\n",
       "Curricular_units_2nd_sem_grade                  0\n",
       "Curricular_units_2nd_sem_without_evaluations    0\n",
       "Unemployment_rate                               0\n",
       "Inflation_rate                                  0\n",
       "GDP                                             0\n",
       "Status                                          0\n",
       "dtype: int64"
      ]
     },
     "execution_count": 6,
     "metadata": {},
     "output_type": "execute_result"
    }
   ],
   "source": [
    "df.isna().sum()"
   ]
  },
  {
   "cell_type": "markdown",
   "metadata": {},
   "source": [
    "tidak ada missing ada pada datasetnya."
   ]
  },
  {
   "cell_type": "code",
   "execution_count": 7,
   "metadata": {},
   "outputs": [
    {
     "data": {
      "text/html": [
       "<div>\n",
       "<style scoped>\n",
       "    .dataframe tbody tr th:only-of-type {\n",
       "        vertical-align: middle;\n",
       "    }\n",
       "\n",
       "    .dataframe tbody tr th {\n",
       "        vertical-align: top;\n",
       "    }\n",
       "\n",
       "    .dataframe thead th {\n",
       "        text-align: right;\n",
       "    }\n",
       "</style>\n",
       "<table border=\"1\" class=\"dataframe\">\n",
       "  <thead>\n",
       "    <tr style=\"text-align: right;\">\n",
       "      <th></th>\n",
       "      <th>Marital_status</th>\n",
       "      <th>Application_mode</th>\n",
       "      <th>Application_order</th>\n",
       "      <th>Course</th>\n",
       "      <th>Daytime_evening_attendance</th>\n",
       "      <th>Previous_qualification</th>\n",
       "      <th>Previous_qualification_grade</th>\n",
       "      <th>Nacionality</th>\n",
       "      <th>Mothers_qualification</th>\n",
       "      <th>Fathers_qualification</th>\n",
       "      <th>Mothers_occupation</th>\n",
       "      <th>Fathers_occupation</th>\n",
       "      <th>Admission_grade</th>\n",
       "      <th>Displaced</th>\n",
       "      <th>Educational_special_needs</th>\n",
       "      <th>Debtor</th>\n",
       "      <th>Tuition_fees_up_to_date</th>\n",
       "      <th>Gender</th>\n",
       "      <th>Scholarship_holder</th>\n",
       "      <th>Age_at_enrollment</th>\n",
       "      <th>International</th>\n",
       "      <th>Curricular_units_1st_sem_credited</th>\n",
       "      <th>Curricular_units_1st_sem_enrolled</th>\n",
       "      <th>Curricular_units_1st_sem_evaluations</th>\n",
       "      <th>Curricular_units_1st_sem_approved</th>\n",
       "      <th>Curricular_units_1st_sem_grade</th>\n",
       "      <th>Curricular_units_1st_sem_without_evaluations</th>\n",
       "      <th>Curricular_units_2nd_sem_credited</th>\n",
       "      <th>Curricular_units_2nd_sem_enrolled</th>\n",
       "      <th>Curricular_units_2nd_sem_evaluations</th>\n",
       "      <th>Curricular_units_2nd_sem_approved</th>\n",
       "      <th>Curricular_units_2nd_sem_grade</th>\n",
       "      <th>Curricular_units_2nd_sem_without_evaluations</th>\n",
       "      <th>Unemployment_rate</th>\n",
       "      <th>Inflation_rate</th>\n",
       "      <th>GDP</th>\n",
       "      <th>Status</th>\n",
       "    </tr>\n",
       "  </thead>\n",
       "  <tbody>\n",
       "    <tr>\n",
       "      <th>0</th>\n",
       "      <td>1</td>\n",
       "      <td>17</td>\n",
       "      <td>5</td>\n",
       "      <td>171</td>\n",
       "      <td>1</td>\n",
       "      <td>1</td>\n",
       "      <td>122.0</td>\n",
       "      <td>1</td>\n",
       "      <td>19</td>\n",
       "      <td>12</td>\n",
       "      <td>5</td>\n",
       "      <td>9</td>\n",
       "      <td>127.3</td>\n",
       "      <td>1</td>\n",
       "      <td>0</td>\n",
       "      <td>0</td>\n",
       "      <td>1</td>\n",
       "      <td>1</td>\n",
       "      <td>0</td>\n",
       "      <td>20</td>\n",
       "      <td>0</td>\n",
       "      <td>0</td>\n",
       "      <td>0</td>\n",
       "      <td>0</td>\n",
       "      <td>0</td>\n",
       "      <td>0.0</td>\n",
       "      <td>0</td>\n",
       "      <td>0</td>\n",
       "      <td>0</td>\n",
       "      <td>0</td>\n",
       "      <td>0</td>\n",
       "      <td>0.0</td>\n",
       "      <td>0</td>\n",
       "      <td>10.8</td>\n",
       "      <td>1.4</td>\n",
       "      <td>1.74</td>\n",
       "      <td>Dropout</td>\n",
       "    </tr>\n",
       "    <tr>\n",
       "      <th>1</th>\n",
       "      <td>1</td>\n",
       "      <td>15</td>\n",
       "      <td>1</td>\n",
       "      <td>9254</td>\n",
       "      <td>1</td>\n",
       "      <td>1</td>\n",
       "      <td>160.0</td>\n",
       "      <td>1</td>\n",
       "      <td>1</td>\n",
       "      <td>3</td>\n",
       "      <td>3</td>\n",
       "      <td>3</td>\n",
       "      <td>142.5</td>\n",
       "      <td>1</td>\n",
       "      <td>0</td>\n",
       "      <td>0</td>\n",
       "      <td>0</td>\n",
       "      <td>1</td>\n",
       "      <td>0</td>\n",
       "      <td>19</td>\n",
       "      <td>0</td>\n",
       "      <td>0</td>\n",
       "      <td>6</td>\n",
       "      <td>6</td>\n",
       "      <td>6</td>\n",
       "      <td>14.0</td>\n",
       "      <td>0</td>\n",
       "      <td>0</td>\n",
       "      <td>6</td>\n",
       "      <td>6</td>\n",
       "      <td>6</td>\n",
       "      <td>13.666.666.666.666.600</td>\n",
       "      <td>0</td>\n",
       "      <td>13.9</td>\n",
       "      <td>-0.3</td>\n",
       "      <td>0.79</td>\n",
       "      <td>Graduate</td>\n",
       "    </tr>\n",
       "    <tr>\n",
       "      <th>2</th>\n",
       "      <td>1</td>\n",
       "      <td>1</td>\n",
       "      <td>5</td>\n",
       "      <td>9070</td>\n",
       "      <td>1</td>\n",
       "      <td>1</td>\n",
       "      <td>122.0</td>\n",
       "      <td>1</td>\n",
       "      <td>37</td>\n",
       "      <td>37</td>\n",
       "      <td>9</td>\n",
       "      <td>9</td>\n",
       "      <td>124.8</td>\n",
       "      <td>1</td>\n",
       "      <td>0</td>\n",
       "      <td>0</td>\n",
       "      <td>0</td>\n",
       "      <td>1</td>\n",
       "      <td>0</td>\n",
       "      <td>19</td>\n",
       "      <td>0</td>\n",
       "      <td>0</td>\n",
       "      <td>6</td>\n",
       "      <td>0</td>\n",
       "      <td>0</td>\n",
       "      <td>0.0</td>\n",
       "      <td>0</td>\n",
       "      <td>0</td>\n",
       "      <td>6</td>\n",
       "      <td>0</td>\n",
       "      <td>0</td>\n",
       "      <td>0.0</td>\n",
       "      <td>0</td>\n",
       "      <td>10.8</td>\n",
       "      <td>1.4</td>\n",
       "      <td>1.74</td>\n",
       "      <td>Dropout</td>\n",
       "    </tr>\n",
       "  </tbody>\n",
       "</table>\n",
       "</div>"
      ],
      "text/plain": [
       "   Marital_status  Application_mode  Application_order  Course  \\\n",
       "0               1                17                  5     171   \n",
       "1               1                15                  1    9254   \n",
       "2               1                 1                  5    9070   \n",
       "\n",
       "   Daytime_evening_attendance  Previous_qualification  \\\n",
       "0                           1                       1   \n",
       "1                           1                       1   \n",
       "2                           1                       1   \n",
       "\n",
       "   Previous_qualification_grade  Nacionality  Mothers_qualification  \\\n",
       "0                         122.0            1                     19   \n",
       "1                         160.0            1                      1   \n",
       "2                         122.0            1                     37   \n",
       "\n",
       "   Fathers_qualification  Mothers_occupation  Fathers_occupation  \\\n",
       "0                     12                   5                   9   \n",
       "1                      3                   3                   3   \n",
       "2                     37                   9                   9   \n",
       "\n",
       "   Admission_grade  Displaced  Educational_special_needs  Debtor  \\\n",
       "0            127.3          1                          0       0   \n",
       "1            142.5          1                          0       0   \n",
       "2            124.8          1                          0       0   \n",
       "\n",
       "   Tuition_fees_up_to_date  Gender  Scholarship_holder  Age_at_enrollment  \\\n",
       "0                        1       1                   0                 20   \n",
       "1                        0       1                   0                 19   \n",
       "2                        0       1                   0                 19   \n",
       "\n",
       "   International  Curricular_units_1st_sem_credited  \\\n",
       "0              0                                  0   \n",
       "1              0                                  0   \n",
       "2              0                                  0   \n",
       "\n",
       "   Curricular_units_1st_sem_enrolled  Curricular_units_1st_sem_evaluations  \\\n",
       "0                                  0                                     0   \n",
       "1                                  6                                     6   \n",
       "2                                  6                                     0   \n",
       "\n",
       "   Curricular_units_1st_sem_approved Curricular_units_1st_sem_grade  \\\n",
       "0                                  0                            0.0   \n",
       "1                                  6                           14.0   \n",
       "2                                  0                            0.0   \n",
       "\n",
       "   Curricular_units_1st_sem_without_evaluations  \\\n",
       "0                                             0   \n",
       "1                                             0   \n",
       "2                                             0   \n",
       "\n",
       "   Curricular_units_2nd_sem_credited  Curricular_units_2nd_sem_enrolled  \\\n",
       "0                                  0                                  0   \n",
       "1                                  0                                  6   \n",
       "2                                  0                                  6   \n",
       "\n",
       "   Curricular_units_2nd_sem_evaluations  Curricular_units_2nd_sem_approved  \\\n",
       "0                                     0                                  0   \n",
       "1                                     6                                  6   \n",
       "2                                     0                                  0   \n",
       "\n",
       "  Curricular_units_2nd_sem_grade  \\\n",
       "0                            0.0   \n",
       "1         13.666.666.666.666.600   \n",
       "2                            0.0   \n",
       "\n",
       "   Curricular_units_2nd_sem_without_evaluations  Unemployment_rate  \\\n",
       "0                                             0               10.8   \n",
       "1                                             0               13.9   \n",
       "2                                             0               10.8   \n",
       "\n",
       "   Inflation_rate   GDP    Status  \n",
       "0             1.4  1.74   Dropout  \n",
       "1            -0.3  0.79  Graduate  \n",
       "2             1.4  1.74   Dropout  "
      ]
     },
     "execution_count": 7,
     "metadata": {},
     "output_type": "execute_result"
    }
   ],
   "source": [
    "df.head(3)"
   ]
  },
  {
   "cell_type": "code",
   "execution_count": 8,
   "metadata": {
    "scrolled": true
   },
   "outputs": [
    {
     "data": {
      "text/plain": [
       "0                          0.0\n",
       "1       13.666.666.666.666.600\n",
       "2                          0.0\n",
       "3                         12.4\n",
       "4                         13.0\n",
       "                 ...          \n",
       "4419    12.666.666.666.666.600\n",
       "4420                      11.0\n",
       "4421                      13.5\n",
       "4422                      12.0\n",
       "4423                      13.0\n",
       "Name: Curricular_units_2nd_sem_grade, Length: 4424, dtype: object"
      ]
     },
     "execution_count": 8,
     "metadata": {},
     "output_type": "execute_result"
    }
   ],
   "source": [
    "df.Curricular_units_2nd_sem_grade"
   ]
  },
  {
   "cell_type": "code",
   "execution_count": 9,
   "metadata": {},
   "outputs": [
    {
     "data": {
      "text/plain": [
       "0                          0.0\n",
       "1                         14.0\n",
       "2                          0.0\n",
       "3       13.428.571.428.571.400\n",
       "4       12.333.333.333.333.300\n",
       "                 ...          \n",
       "4419                      13.6\n",
       "4420                      12.0\n",
       "4421                   149.125\n",
       "4422                      13.8\n",
       "4423    11.666.666.666.666.600\n",
       "Name: Curricular_units_1st_sem_grade, Length: 4424, dtype: object"
      ]
     },
     "execution_count": 9,
     "metadata": {},
     "output_type": "execute_result"
    }
   ],
   "source": [
    "df.Curricular_units_1st_sem_grade"
   ]
  },
  {
   "cell_type": "markdown",
   "metadata": {},
   "source": [
    "terdapat beberapa data yang sangat besar baik pada column 'Curricular_units_1st_sem_grade' dan 'Curricular_units_2nd_sem_grade', sehingga perlu dibersihkan untuk menyesuaikan datanya."
   ]
  },
  {
   "cell_type": "markdown",
   "metadata": {},
   "source": [
    "## Data Preparation / Preprocessing"
   ]
  },
  {
   "cell_type": "markdown",
   "metadata": {},
   "source": [
    "### Memperbaiki data pada column 'Curricular_units_1st_sem_grade'"
   ]
  },
  {
   "cell_type": "code",
   "execution_count": 10,
   "metadata": {},
   "outputs": [
    {
     "data": {
      "text/plain": [
       "0.0                       718\n",
       "12.0                      205\n",
       "13.0                      147\n",
       "11.0                      138\n",
       "11.5                       89\n",
       "                         ... \n",
       "1.469.625                   1\n",
       "13.04                       1\n",
       "15.657.142.857.142.800      1\n",
       "13.331.428.571.428.500      1\n",
       "149.125                     1\n",
       "Name: Curricular_units_1st_sem_grade, Length: 800, dtype: int64"
      ]
     },
     "execution_count": 10,
     "metadata": {},
     "output_type": "execute_result"
    }
   ],
   "source": [
    "df.Curricular_units_1st_sem_grade.value_counts()"
   ]
  },
  {
   "cell_type": "markdown",
   "metadata": {},
   "source": [
    "karena data yang berbeda ini memiliki banyak titik, kita bisa mengubah datanya menjadi NaN jika datanya mempunyai lebih dari satu titik."
   ]
  },
  {
   "cell_type": "code",
   "execution_count": 11,
   "metadata": {},
   "outputs": [],
   "source": [
    "def titik_format(x):\n",
    "    count = 0\n",
    "    for r in x:\n",
    "        if r == '.':\n",
    "            count += 1\n",
    "    if count == 1:\n",
    "        return float(x)\n",
    "    else:\n",
    "        return np.nan\n",
    "\n",
    "df.Curricular_units_1st_sem_grade = df.Curricular_units_1st_sem_grade.apply(lambda x: titik_format(x))"
   ]
  },
  {
   "cell_type": "code",
   "execution_count": 12,
   "metadata": {},
   "outputs": [
    {
     "data": {
      "text/plain": [
       "1633"
      ]
     },
     "execution_count": 12,
     "metadata": {},
     "output_type": "execute_result"
    }
   ],
   "source": [
    "df.Curricular_units_1st_sem_grade.isna().sum()"
   ]
  },
  {
   "cell_type": "markdown",
   "metadata": {},
   "source": [
    "setelah diubah datanya, didapatkan sebanyak 1633 data yang mempunyai NaN value"
   ]
  },
  {
   "cell_type": "code",
   "execution_count": 13,
   "metadata": {},
   "outputs": [
    {
     "data": {
      "image/png": "[encoded data removed]",
      "text/plain": [
       "<Figure size 640x480 with 1 Axes>"
      ]
     },
     "metadata": {},
     "output_type": "display_data"
    }
   ],
   "source": [
    "plt.title('Distribution Curricular units 1st sem grade')\n",
    "plt.hist(df.Curricular_units_1st_sem_grade)\n",
    "plt.show()"
   ]
  },
  {
   "cell_type": "code",
   "execution_count": 14,
   "metadata": {
    "scrolled": true
   },
   "outputs": [
    {
     "data": {
      "text/plain": [
       "0    0.0\n",
       "Name: Curricular_units_1st_sem_grade, dtype: float64"
      ]
     },
     "execution_count": 14,
     "metadata": {},
     "output_type": "execute_result"
    }
   ],
   "source": [
    "df.Curricular_units_1st_sem_grade.mode()"
   ]
  },
  {
   "cell_type": "markdown",
   "metadata": {},
   "source": [
    "diketahui berdasarkan distribusinya, kebanyakan data bernilai 0.0, sehingga kita bisa mengganti nilai NaN menjadi 0.0"
   ]
  },
  {
   "cell_type": "code",
   "execution_count": 15,
   "metadata": {},
   "outputs": [],
   "source": [
    "df.Curricular_units_1st_sem_grade.fillna(0.0, inplace=True)"
   ]
  },
  {
   "cell_type": "code",
   "execution_count": 16,
   "metadata": {},
   "outputs": [
    {
     "data": {
      "text/plain": [
       "0"
      ]
     },
     "execution_count": 16,
     "metadata": {},
     "output_type": "execute_result"
    }
   ],
   "source": [
    "df.Curricular_units_1st_sem_grade.isna().sum()"
   ]
  },
  {
   "cell_type": "markdown",
   "metadata": {},
   "source": [
    "sekarang tidak ada lagi NaN value pada column 'Curricular_units_1st_sem_grade'"
   ]
  },
  {
   "cell_type": "markdown",
   "metadata": {},
   "source": [
    "### Memperbaiki data pada column 'Curricular_units_2nd_sem_grade'"
   ]
  },
  {
   "cell_type": "code",
   "execution_count": 17,
   "metadata": {},
   "outputs": [
    {
     "data": {
      "text/plain": [
       "0.0                       870\n",
       "12.0                      170\n",
       "11.0                      165\n",
       "13.0                      150\n",
       "11.5                       86\n",
       "                         ... \n",
       "14.622.222.222.222.200      1\n",
       "13.994.444.444.444.400      1\n",
       "11.685.714.285.714.200      1\n",
       "15.657.142.857.142.800      1\n",
       "11.083.333.333.333.300      1\n",
       "Name: Curricular_units_2nd_sem_grade, Length: 785, dtype: int64"
      ]
     },
     "execution_count": 17,
     "metadata": {},
     "output_type": "execute_result"
    }
   ],
   "source": [
    "df.Curricular_units_2nd_sem_grade.value_counts()"
   ]
  },
  {
   "cell_type": "markdown",
   "metadata": {},
   "source": [
    "column 'Curricular_units_2nd_sem_grade' masih memiliki nilai yang sangat besar, sehingga kita perlu memanipulasinya"
   ]
  },
  {
   "cell_type": "code",
   "execution_count": 18,
   "metadata": {},
   "outputs": [],
   "source": [
    "def titik_format(x):\n",
    "    count = 0\n",
    "    for r in x:\n",
    "        if r == '.':\n",
    "            count += 1\n",
    "    if count == 1:\n",
    "        return float(x)\n",
    "    else:\n",
    "        return np.nan\n",
    "\n",
    "\n",
    "df.Curricular_units_2nd_sem_grade = df.Curricular_units_2nd_sem_grade.apply(lambda x: titik_format(x))"
   ]
  },
  {
   "cell_type": "markdown",
   "metadata": {},
   "source": [
    "manipulasi data yang memiliki jumlah yang besar menjadi NaN"
   ]
  },
  {
   "cell_type": "code",
   "execution_count": 19,
   "metadata": {},
   "outputs": [
    {
     "data": {
      "image/png": "[encoded data removed]",
      "text/plain": [
       "<Figure size 640x480 with 1 Axes>"
      ]
     },
     "metadata": {},
     "output_type": "display_data"
    }
   ],
   "source": [
    "plt.title('Distribution Curricular units 2nd sem grade')\n",
    "plt.hist(df.Curricular_units_2nd_sem_grade)\n",
    "plt.show()"
   ]
  },
  {
   "cell_type": "code",
   "execution_count": 20,
   "metadata": {},
   "outputs": [
    {
     "data": {
      "text/plain": [
       "0    0.0\n",
       "Name: Curricular_units_2nd_sem_grade, dtype: float64"
      ]
     },
     "execution_count": 20,
     "metadata": {},
     "output_type": "execute_result"
    }
   ],
   "source": [
    "df.Curricular_units_2nd_sem_grade.mode()"
   ]
  },
  {
   "cell_type": "code",
   "execution_count": 21,
   "metadata": {},
   "outputs": [],
   "source": [
    "df.Curricular_units_2nd_sem_grade.fillna(0.0, inplace=True)"
   ]
  },
  {
   "cell_type": "code",
   "execution_count": 22,
   "metadata": {},
   "outputs": [
    {
     "data": {
      "text/plain": [
       "0"
      ]
     },
     "execution_count": 22,
     "metadata": {},
     "output_type": "execute_result"
    }
   ],
   "source": [
    "df.Curricular_units_2nd_sem_grade.isna().sum()"
   ]
  },
  {
   "cell_type": "markdown",
   "metadata": {},
   "source": [
    "berdasarkan distribusinya dan nilai terbanyak, diketahui bahwa 0.0 merupakan nilai yang layak untuk mengisi NaN pada column 'Curricular_units_2nd_sem_grade'"
   ]
  },
  {
   "cell_type": "code",
   "execution_count": 23,
   "metadata": {},
   "outputs": [
    {
     "name": "stdout",
     "output_type": "stream",
     "text": [
      "<class 'pandas.core.frame.DataFrame'>\n",
      "RangeIndex: 4424 entries, 0 to 4423\n",
      "Data columns (total 2 columns):\n",
      " #   Column                          Non-Null Count  Dtype  \n",
      "---  ------                          --------------  -----  \n",
      " 0   Curricular_units_1st_sem_grade  4424 non-null   float64\n",
      " 1   Curricular_units_2nd_sem_grade  4424 non-null   float64\n",
      "dtypes: float64(2)\n",
      "memory usage: 69.2 KB\n"
     ]
    }
   ],
   "source": [
    "df[['Curricular_units_1st_sem_grade', 'Curricular_units_2nd_sem_grade']].info()"
   ]
  },
  {
   "cell_type": "markdown",
   "metadata": {},
   "source": [
    "setelah merubah data dengan nilai yang besar, tipe data dari kedua kolom tsb berubah menjadi float64, sesuai dengan keinginan kita."
   ]
  },
  {
   "cell_type": "markdown",
   "metadata": {},
   "source": [
    "### Exploratory Data Analysis (EDA)"
   ]
  },
  {
   "cell_type": "markdown",
   "metadata": {},
   "source": [
    "#### Explore..."
   ]
  },
  {
   "cell_type": "markdown",
   "metadata": {},
   "source": [
    "Jaya Jaya Institut merupakan perguruan tinggi yang telah mencetak banyak lulusan yang sangat baik, akan tetapi terdapat siswa yang dropout dengan jumlah yang terbilang tidak sedikit. Exploratory data analysis membantu untuk mencari penyebab mengapa terdapat banyak siswa yang dropout.\n",
    "\n",
    "Berdasarkan penjelasan tersebut muncul 3 pertanyaan:\n",
    "\n",
    "1. Bagaimana persentase antara siswa yang menerima Scholarship dan siswa yang mengambil debt?\n",
    "2. Bagaimana deskripsi siswa di Jaya Jaya Institut? Berapa rata-rata umurnya saat mendaftar? bagaimana status dari siswanya?\n",
    "3. Bagaimana progress perkembangan nilai siswa dari semester satu hingga semester dua?"
   ]
  },
  {
   "cell_type": "code",
   "execution_count": 24,
   "metadata": {},
   "outputs": [],
   "source": [
    "df['Status'] = df['Status'].apply(lambda x: 'Non-Dropout' if x != 'Dropout' else x)"
   ]
  },
  {
   "cell_type": "markdown",
   "metadata": {},
   "source": [
    "mengubah status siswa yang tidak Dropout menjadi Non-Dropout, hal ini dilakukan untuk melihat pattern dari datanya."
   ]
  },
  {
   "cell_type": "code",
   "execution_count": 25,
   "metadata": {},
   "outputs": [
    {
     "data": {
      "text/plain": [
       "Non-Dropout    3003\n",
       "Dropout        1421\n",
       "Name: Status, dtype: int64"
      ]
     },
     "execution_count": 25,
     "metadata": {},
     "output_type": "execute_result"
    }
   ],
   "source": [
    "df.Status.value_counts()"
   ]
  },
  {
   "cell_type": "markdown",
   "metadata": {},
   "source": [
    "diketahui bahwa jumlah siswa yang Non-Dropout lebih banyak akan tetapi jumlah siswa yang Dropout hampir setengah dari Non-Dropout."
   ]
  },
  {
   "cell_type": "code",
   "execution_count": 26,
   "metadata": {},
   "outputs": [],
   "source": [
    "df['Scholarship_holder'] = df['Scholarship_holder'].apply(lambda x: 'No' if x == 0 else 'Yes')"
   ]
  },
  {
   "cell_type": "code",
   "execution_count": 27,
   "metadata": {},
   "outputs": [],
   "source": [
    "df['Debtor'] = df['Debtor'].apply(lambda x: 'No' if x == 0 else 'Yes')"
   ]
  },
  {
   "cell_type": "markdown",
   "metadata": {},
   "source": [
    "mengubah data pada kolom 'Scholarship_holder' & 'Debtor' menjadi kategorikal, untuk memudahkan pembacaan data."
   ]
  },
  {
   "cell_type": "markdown",
   "metadata": {},
   "source": [
    "#### 1. Bagaimana persentase antara siswa yang menerima Scholarship dan siswa yang mengambil debt?"
   ]
  },
  {
   "cell_type": "code",
   "execution_count": 28,
   "metadata": {},
   "outputs": [],
   "source": [
    "scholarship_counts = df.Scholarship_holder.value_counts()\n",
    "debtor = df.Debtor.value_counts()"
   ]
  },
  {
   "cell_type": "code",
   "execution_count": 29,
   "metadata": {},
   "outputs": [
    {
     "data": {
      "image/png": "[encoded data removed]",
      "text/plain": [
       "<Figure size 800x500 with 2 Axes>"
      ]
     },
     "metadata": {},
     "output_type": "display_data"
    }
   ],
   "source": [
    "plt.figure(figsize=(8,5))\n",
    "colors = ['firebrick', 'grey']\n",
    "title = ['Scholarship Distribution', 'Debt Distribution']\n",
    "\n",
    "for n in range(2):\n",
    "    if n == 0:\n",
    "        data = scholarship_counts\n",
    "    else:\n",
    "        data = debtor\n",
    "        \n",
    "    plt.subplot(1,2, 1+n)\n",
    "    plt.title(title[n], fontsize=15)\n",
    "    plt.pie(data, labels=data.index, colors=colors, autopct=\"%1.1f%%\")\n",
    "    \n",
    "    plt.tight_layout(pad=2.0)\n",
    "\n",
    "plt.suptitle('Student Grade', fontsize=20)\n",
    "plt.show()"
   ]
  },
  {
   "cell_type": "markdown",
   "metadata": {},
   "source": [
    "melalui pie chart diatas dijelaskan bahwa kebanyakan siswa tidak mendapatkan beasiswa dan hanya sedikit siswa yang menghutang, sehingga diketahui kebanyakan siswa di Jaya Jaya Institut mandiri dalam pembayaran sekolahnya."
   ]
  },
  {
   "cell_type": "markdown",
   "metadata": {},
   "source": [
    "#### 2. Bagaimana deskripsi siswa di Jaya Jaya Institut? Berapa rata-rata umurnya saat mendaftar? bagaimana status dari siswanya?"
   ]
  },
  {
   "cell_type": "code",
   "execution_count": 30,
   "metadata": {},
   "outputs": [],
   "source": [
    "def status_format(x):\n",
    "    if x == 2 or x == 5:\n",
    "        return 'Couple'\n",
    "    else:\n",
    "        return 'Single'\n",
    "    \n",
    "df.Marital_status = df.Marital_status.apply(lambda x: status_format(x))"
   ]
  },
  {
   "cell_type": "markdown",
   "metadata": {},
   "source": [
    "menipulasi column Marital_status menjadi 2 value, yaitu single dan couple, sehingga dapat memudahkan analisi dan pemahaman data"
   ]
  },
  {
   "cell_type": "code",
   "execution_count": 31,
   "metadata": {},
   "outputs": [
    {
     "data": {
      "text/plain": [
       "Single    4020\n",
       "Couple     404\n",
       "Name: Marital_status, dtype: int64"
      ]
     },
     "execution_count": 31,
     "metadata": {},
     "output_type": "execute_result"
    }
   ],
   "source": [
    "status_bar = df.Marital_status.value_counts()\n",
    "\n",
    "status_bar"
   ]
  },
  {
   "cell_type": "code",
   "execution_count": 32,
   "metadata": {},
   "outputs": [
    {
     "data": {
      "text/html": [
       "<div>\n",
       "<style scoped>\n",
       "    .dataframe tbody tr th:only-of-type {\n",
       "        vertical-align: middle;\n",
       "    }\n",
       "\n",
       "    .dataframe tbody tr th {\n",
       "        vertical-align: top;\n",
       "    }\n",
       "\n",
       "    .dataframe thead th {\n",
       "        text-align: right;\n",
       "    }\n",
       "</style>\n",
       "<table border=\"1\" class=\"dataframe\">\n",
       "  <thead>\n",
       "    <tr style=\"text-align: right;\">\n",
       "      <th></th>\n",
       "      <th>Status</th>\n",
       "      <th>Age_at_enrollment</th>\n",
       "    </tr>\n",
       "  </thead>\n",
       "  <tbody>\n",
       "    <tr>\n",
       "      <th>0</th>\n",
       "      <td>Dropout</td>\n",
       "      <td>26.068966</td>\n",
       "    </tr>\n",
       "    <tr>\n",
       "      <th>1</th>\n",
       "      <td>Non-Dropout</td>\n",
       "      <td>21.938395</td>\n",
       "    </tr>\n",
       "  </tbody>\n",
       "</table>\n",
       "</div>"
      ],
      "text/plain": [
       "        Status  Age_at_enrollment\n",
       "0      Dropout          26.068966\n",
       "1  Non-Dropout          21.938395"
      ]
     },
     "execution_count": 32,
     "metadata": {},
     "output_type": "execute_result"
    }
   ],
   "source": [
    "student_status = df.groupby(by=['Status']).agg({\n",
    "    'Age_at_enrollment': 'mean',\n",
    "}).reset_index()\n",
    "\n",
    "student_status"
   ]
  },
  {
   "cell_type": "code",
   "execution_count": 33,
   "metadata": {},
   "outputs": [
    {
     "data": {
      "image/png": "[encoded data removed]",
      "text/plain": [
       "<Figure size 800x600 with 2 Axes>"
      ]
     },
     "metadata": {},
     "output_type": "display_data"
    }
   ],
   "source": [
    "plt.figure(figsize=(8,6))\n",
    "\n",
    "plt.subplot(1,2,1)\n",
    "graph = sns.barplot(data=student_status, x='Status', y='Age_at_enrollment', palette=['red', 'gray'])\n",
    "for i in graph.containers:\n",
    "        graph.bar_label(i, color='black', fmt = '%.1f')\n",
    "plt.title('Avg Student Age Enrollment')\n",
    "\n",
    "plt.subplot(1,2,2)\n",
    "sns.barplot(x=status_bar.index, y=status_bar.values, palette=['red', 'gray'])\n",
    "plt.xlabel(\"Marital Status\")\n",
    "plt.ylabel(\"Number of People\")\n",
    "for i, v in enumerate(status_bar.values):\n",
    "    plt.text(i, v + 0.1, str(v), va='bottom', ha='center')\n",
    "plt.title(\"Distribution of Marital Status\")\n",
    "\n",
    "plt.tight_layout(pad=5.0)\n",
    "plt.suptitle('Student Desciption', fontsize=20)\n",
    "plt.show() "
   ]
  },
  {
   "cell_type": "markdown",
   "metadata": {},
   "source": [
    "Berdasarkan 2 barchart diatas, diketahui bahwa kebanyakan siswa masih berstatus single, hanya sedikit yang telah memiliki pasangan. Berdasarkan chart data pendaftaran, diketahui bahwa rata-rata siswa mendaftar pada 26.1 sangat dimungkinkan untuk dropout, sedangkan siswa yang rata-rata usianya mendaftar pada usia 21.9 tidak dropout."
   ]
  },
  {
   "cell_type": "markdown",
   "metadata": {},
   "source": [
    "#### 3. Bagaimana progress perkembangan nilai siswa dari semester satu hingga semester dua?"
   ]
  },
  {
   "cell_type": "code",
   "execution_count": 34,
   "metadata": {},
   "outputs": [
    {
     "data": {
      "text/html": [
       "<div>\n",
       "<style scoped>\n",
       "    .dataframe tbody tr th:only-of-type {\n",
       "        vertical-align: middle;\n",
       "    }\n",
       "\n",
       "    .dataframe tbody tr th {\n",
       "        vertical-align: top;\n",
       "    }\n",
       "\n",
       "    .dataframe thead th {\n",
       "        text-align: right;\n",
       "    }\n",
       "</style>\n",
       "<table border=\"1\" class=\"dataframe\">\n",
       "  <thead>\n",
       "    <tr style=\"text-align: right;\">\n",
       "      <th></th>\n",
       "      <th>Status</th>\n",
       "      <th>Curricular_units_1st_sem_grade</th>\n",
       "      <th>Curricular_units_2nd_sem_grade</th>\n",
       "    </tr>\n",
       "  </thead>\n",
       "  <tbody>\n",
       "    <tr>\n",
       "      <th>0</th>\n",
       "      <td>Dropout</td>\n",
       "      <td>5.375705</td>\n",
       "      <td>4.773953</td>\n",
       "    </tr>\n",
       "    <tr>\n",
       "      <th>1</th>\n",
       "      <td>Non-Dropout</td>\n",
       "      <td>7.613169</td>\n",
       "      <td>9.822772</td>\n",
       "    </tr>\n",
       "  </tbody>\n",
       "</table>\n",
       "</div>"
      ],
      "text/plain": [
       "        Status  Curricular_units_1st_sem_grade  Curricular_units_2nd_sem_grade\n",
       "0      Dropout                        5.375705                        4.773953\n",
       "1  Non-Dropout                        7.613169                        9.822772"
      ]
     },
     "execution_count": 34,
     "metadata": {},
     "output_type": "execute_result"
    }
   ],
   "source": [
    "student_grade =  df.groupby(by=['Status']).agg({\n",
    "    'Curricular_units_1st_sem_grade': 'mean',\n",
    "    'Curricular_units_2nd_sem_grade': 'mean',\n",
    "}).reset_index()\n",
    "\n",
    "student_grade "
   ]
  },
  {
   "cell_type": "code",
   "execution_count": 35,
   "metadata": {},
   "outputs": [
    {
     "data": {
      "image/png": "[encoded data removed]",
      "text/plain": [
       "<Figure size 800x600 with 2 Axes>"
      ]
     },
     "metadata": {},
     "output_type": "display_data"
    }
   ],
   "source": [
    "plt.figure(figsize=(8,6))\n",
    "colors = ['red', 'grey']\n",
    "title = ['Student Grade First Semester', 'Student Grade Second Semester']\n",
    "level = ['Curricular_units_1st_sem_grade', 'Curricular_units_2nd_sem_grade']\n",
    "\n",
    "for n in range(2):\n",
    "    plt.subplot(1,2, 1+n)\n",
    "    plt.title(title[n])\n",
    "    graph = sns.barplot(data=student_grade, x='Status', y=level[n], palette=colors)\n",
    "    \n",
    "    plt.tight_layout(pad=5.0)\n",
    "\n",
    "    for i in graph.containers:\n",
    "        graph.bar_label(i, color='black', fmt = '%.1f')\n",
    "\n",
    "plt.suptitle('Student Grade Progress', fontsize=20)\n",
    "plt.show()"
   ]
  },
  {
   "cell_type": "markdown",
   "metadata": {},
   "source": [
    "melalui dua barchart diatas yang mengambarkan semester pertama dan semester kedua, diketahui bahwa siswa yang dropout memiliki rata-rata nilai yang menurun, sedangkan siswa yang sudah lulus atau masih belajar memiliki nilai yang berkembang. "
   ]
  },
  {
   "cell_type": "markdown",
   "metadata": {},
   "source": [
    "#### Kesimpulan"
   ]
  },
  {
   "cell_type": "markdown",
   "metadata": {},
   "source": [
    "Melalui 3 pertanyaan tersebut, saya menyimpulkan bahwa kebanyakan siswa yang bersekolah di Jaya Jaya Institut menanggung biayanya sendiri serta tidak menggunakan beasiswa ataupun hutang untuk pendidikannya. \n",
    "\n",
    "Kemudian, diketahui status dari siswa di Jaya Jaya Institut masih single dan hanya sedikit yang memiliki pasangan, yang artinya siswa masih tidak memiliki tanggungan, lalu siswa yang berstatus dropout memiliki rata-rata umurnya yaitu 26.1 dan siswa yang sudah lulus/masih belajar mendaftar di usia yang lebih muda yaitu 21.9 tahun.\n",
    "\n",
    "Siswa yang dropout memiliki nilai yang cenderung menurun, sedangkan siswa yang masih sekolah/sudah lulus cenderung meningkat dalam nilainya, itulah perbedaan yang mendasar antara siswa yang dropout dan siswa yang tidak dropout."
   ]
  },
  {
   "cell_type": "markdown",
   "metadata": {},
   "source": [
    "#### Preprocessing untuk machine learning"
   ]
  },
  {
   "cell_type": "markdown",
   "metadata": {},
   "source": [
    "Mengembangkan model machine learning untuk memprediksi apakah siswa akan *Dropout* atau *Non-Dropout*, dikarenakan label yang dimiliki hanya dua, logistic regression adalah algoritma machine learning yang akan digunakan."
   ]
  },
  {
   "cell_type": "code",
   "execution_count": 39,
   "metadata": {},
   "outputs": [],
   "source": [
    "new_df = df[['Gender', 'Marital_status', 'Age_at_enrollment', 'Scholarship_holder', 'Debtor', \n",
    "             'Curricular_units_1st_sem_grade', 'Curricular_units_2nd_sem_grade', 'Status']]"
   ]
  },
  {
   "cell_type": "code",
   "execution_count": 40,
   "metadata": {
    "scrolled": true
   },
   "outputs": [
    {
     "data": {
      "text/html": [
       "<div>\n",
       "<style scoped>\n",
       "    .dataframe tbody tr th:only-of-type {\n",
       "        vertical-align: middle;\n",
       "    }\n",
       "\n",
       "    .dataframe tbody tr th {\n",
       "        vertical-align: top;\n",
       "    }\n",
       "\n",
       "    .dataframe thead th {\n",
       "        text-align: right;\n",
       "    }\n",
       "</style>\n",
       "<table border=\"1\" class=\"dataframe\">\n",
       "  <thead>\n",
       "    <tr style=\"text-align: right;\">\n",
       "      <th></th>\n",
       "      <th>Gender</th>\n",
       "      <th>Marital_status</th>\n",
       "      <th>Age_at_enrollment</th>\n",
       "      <th>Scholarship_holder</th>\n",
       "      <th>Debtor</th>\n",
       "      <th>Curricular_units_1st_sem_grade</th>\n",
       "      <th>Curricular_units_2nd_sem_grade</th>\n",
       "      <th>Status</th>\n",
       "    </tr>\n",
       "  </thead>\n",
       "  <tbody>\n",
       "    <tr>\n",
       "      <th>865</th>\n",
       "      <td>1</td>\n",
       "      <td>Single</td>\n",
       "      <td>18</td>\n",
       "      <td>Yes</td>\n",
       "      <td>No</td>\n",
       "      <td>0.0</td>\n",
       "      <td>0.00</td>\n",
       "      <td>Non-Dropout</td>\n",
       "    </tr>\n",
       "    <tr>\n",
       "      <th>1277</th>\n",
       "      <td>0</td>\n",
       "      <td>Couple</td>\n",
       "      <td>35</td>\n",
       "      <td>No</td>\n",
       "      <td>No</td>\n",
       "      <td>12.5</td>\n",
       "      <td>11.80</td>\n",
       "      <td>Dropout</td>\n",
       "    </tr>\n",
       "    <tr>\n",
       "      <th>4322</th>\n",
       "      <td>0</td>\n",
       "      <td>Single</td>\n",
       "      <td>19</td>\n",
       "      <td>No</td>\n",
       "      <td>Yes</td>\n",
       "      <td>12.2</td>\n",
       "      <td>11.75</td>\n",
       "      <td>Dropout</td>\n",
       "    </tr>\n",
       "  </tbody>\n",
       "</table>\n",
       "</div>"
      ],
      "text/plain": [
       "      Gender Marital_status  Age_at_enrollment Scholarship_holder Debtor  \\\n",
       "865        1         Single                 18                Yes     No   \n",
       "1277       0         Couple                 35                 No     No   \n",
       "4322       0         Single                 19                 No    Yes   \n",
       "\n",
       "      Curricular_units_1st_sem_grade  Curricular_units_2nd_sem_grade  \\\n",
       "865                              0.0                            0.00   \n",
       "1277                            12.5                           11.80   \n",
       "4322                            12.2                           11.75   \n",
       "\n",
       "           Status  \n",
       "865   Non-Dropout  \n",
       "1277      Dropout  \n",
       "4322      Dropout  "
      ]
     },
     "execution_count": 40,
     "metadata": {},
     "output_type": "execute_result"
    }
   ],
   "source": [
    "new_df.sample(3)"
   ]
  },
  {
   "cell_type": "markdown",
   "metadata": {},
   "source": [
    "Dataframe baru yang digunakan untuk memprediksi siswa nantinya"
   ]
  },
  {
   "cell_type": "markdown",
   "metadata": {},
   "source": [
    "Mengubah kolom kategori menjadi numerik, karena machine learning hanya bisa membaca angka."
   ]
  },
  {
   "cell_type": "code",
   "execution_count": 41,
   "metadata": {},
   "outputs": [
    {
     "name": "stderr",
     "output_type": "stream",
     "text": [
      "C:\\Users\\rizqr\\AppData\\Local\\Temp\\ipykernel_8296\\1383550398.py:1: SettingWithCopyWarning: \n",
      "A value is trying to be set on a copy of a slice from a DataFrame.\n",
      "Try using .loc[row_indexer,col_indexer] = value instead\n",
      "\n",
      "See the caveats in the documentation: https://pandas.pydata.org/pandas-docs/stable/user_guide/indexing.html#returning-a-view-versus-a-copy\n",
      "  new_df.Status = new_df.Status.apply(lambda x: 1 if x == 'Dropout' else 0)\n"
     ]
    }
   ],
   "source": [
    "new_df.Status = new_df.Status.apply(lambda x: 1 if x == 'Dropout' else 0)"
   ]
  },
  {
   "cell_type": "code",
   "execution_count": 42,
   "metadata": {},
   "outputs": [
    {
     "name": "stderr",
     "output_type": "stream",
     "text": [
      "C:\\Users\\rizqr\\AppData\\Local\\Temp\\ipykernel_8296\\2168252413.py:1: SettingWithCopyWarning: \n",
      "A value is trying to be set on a copy of a slice from a DataFrame.\n",
      "Try using .loc[row_indexer,col_indexer] = value instead\n",
      "\n",
      "See the caveats in the documentation: https://pandas.pydata.org/pandas-docs/stable/user_guide/indexing.html#returning-a-view-versus-a-copy\n",
      "  new_df['Marital_status'] = new_df.Marital_status.apply(lambda x: 1 if x == 'Single' else 0)\n"
     ]
    }
   ],
   "source": [
    "new_df['Marital_status'] = new_df.Marital_status.apply(lambda x: 1 if x == 'Single' else 0)"
   ]
  },
  {
   "cell_type": "code",
   "execution_count": 43,
   "metadata": {},
   "outputs": [
    {
     "name": "stderr",
     "output_type": "stream",
     "text": [
      "C:\\Users\\rizqr\\AppData\\Local\\Temp\\ipykernel_8296\\2854495353.py:1: SettingWithCopyWarning: \n",
      "A value is trying to be set on a copy of a slice from a DataFrame.\n",
      "Try using .loc[row_indexer,col_indexer] = value instead\n",
      "\n",
      "See the caveats in the documentation: https://pandas.pydata.org/pandas-docs/stable/user_guide/indexing.html#returning-a-view-versus-a-copy\n",
      "  new_df['Scholarship_holder'] = new_df.Scholarship_holder.apply(lambda x: 1 if x == 'Yes' else 0)\n"
     ]
    }
   ],
   "source": [
    "new_df['Scholarship_holder'] = new_df.Scholarship_holder.apply(lambda x: 1 if x == 'Yes' else 0)"
   ]
  },
  {
   "cell_type": "code",
   "execution_count": 137,
   "metadata": {},
   "outputs": [
    {
     "name": "stderr",
     "output_type": "stream",
     "text": [
      "C:\\Users\\rizqr\\AppData\\Local\\Temp\\ipykernel_8296\\1005163954.py:1: SettingWithCopyWarning: \n",
      "A value is trying to be set on a copy of a slice from a DataFrame.\n",
      "Try using .loc[row_indexer,col_indexer] = value instead\n",
      "\n",
      "See the caveats in the documentation: https://pandas.pydata.org/pandas-docs/stable/user_guide/indexing.html#returning-a-view-versus-a-copy\n",
      "  new_df['Debtor'] = new_df['Debtor'].apply(lambda x: 1 if x == 'Yes' else 0)\n"
     ]
    }
   ],
   "source": [
    "new_df['Debtor'] = new_df['Debtor'].apply(lambda x: 1 if x == 'Yes' else 0)"
   ]
  },
  {
   "cell_type": "code",
   "execution_count": 45,
   "metadata": {},
   "outputs": [
    {
     "data": {
      "text/html": [
       "<div>\n",
       "<style scoped>\n",
       "    .dataframe tbody tr th:only-of-type {\n",
       "        vertical-align: middle;\n",
       "    }\n",
       "\n",
       "    .dataframe tbody tr th {\n",
       "        vertical-align: top;\n",
       "    }\n",
       "\n",
       "    .dataframe thead th {\n",
       "        text-align: right;\n",
       "    }\n",
       "</style>\n",
       "<table border=\"1\" class=\"dataframe\">\n",
       "  <thead>\n",
       "    <tr style=\"text-align: right;\">\n",
       "      <th></th>\n",
       "      <th>Gender</th>\n",
       "      <th>Marital_status</th>\n",
       "      <th>Age_at_enrollment</th>\n",
       "      <th>Scholarship_holder</th>\n",
       "      <th>Debtor</th>\n",
       "      <th>Curricular_units_1st_sem_grade</th>\n",
       "      <th>Curricular_units_2nd_sem_grade</th>\n",
       "      <th>Status</th>\n",
       "    </tr>\n",
       "  </thead>\n",
       "  <tbody>\n",
       "    <tr>\n",
       "      <th>2720</th>\n",
       "      <td>0</td>\n",
       "      <td>1</td>\n",
       "      <td>18</td>\n",
       "      <td>1</td>\n",
       "      <td>0</td>\n",
       "      <td>0.0</td>\n",
       "      <td>0.0</td>\n",
       "      <td>0</td>\n",
       "    </tr>\n",
       "    <tr>\n",
       "      <th>498</th>\n",
       "      <td>0</td>\n",
       "      <td>1</td>\n",
       "      <td>18</td>\n",
       "      <td>0</td>\n",
       "      <td>0</td>\n",
       "      <td>11.8</td>\n",
       "      <td>0.0</td>\n",
       "      <td>0</td>\n",
       "    </tr>\n",
       "    <tr>\n",
       "      <th>4369</th>\n",
       "      <td>1</td>\n",
       "      <td>1</td>\n",
       "      <td>18</td>\n",
       "      <td>0</td>\n",
       "      <td>0</td>\n",
       "      <td>0.0</td>\n",
       "      <td>0.0</td>\n",
       "      <td>0</td>\n",
       "    </tr>\n",
       "  </tbody>\n",
       "</table>\n",
       "</div>"
      ],
      "text/plain": [
       "      Gender  Marital_status  Age_at_enrollment  Scholarship_holder  Debtor  \\\n",
       "2720       0               1                 18                   1       0   \n",
       "498        0               1                 18                   0       0   \n",
       "4369       1               1                 18                   0       0   \n",
       "\n",
       "      Curricular_units_1st_sem_grade  Curricular_units_2nd_sem_grade  Status  \n",
       "2720                             0.0                             0.0       0  \n",
       "498                             11.8                             0.0       0  \n",
       "4369                             0.0                             0.0       0  "
      ]
     },
     "execution_count": 45,
     "metadata": {},
     "output_type": "execute_result"
    }
   ],
   "source": [
    "new_df.sample(3)"
   ]
  },
  {
   "cell_type": "markdown",
   "metadata": {},
   "source": [
    "Tiga sample pada Dataframe baru serta semua data telah menjadi numerik"
   ]
  },
  {
   "cell_type": "code",
   "execution_count": 46,
   "metadata": {},
   "outputs": [
    {
     "data": {
      "image/png": "[encoded data removed]",
      "text/plain": [
       "<Figure size 640x480 with 1 Axes>"
      ]
     },
     "metadata": {},
     "output_type": "display_data"
    }
   ],
   "source": [
    "sns.countplot(data=new_df, x=\"Status\")\n",
    "plt.show()"
   ]
  },
  {
   "cell_type": "markdown",
   "metadata": {},
   "source": [
    "Terjadi ketimpangan data pada labelnya, sehingga kita perlu melakukan sampling untuk menyetarakan data & menormalisasikan data"
   ]
  },
  {
   "cell_type": "code",
   "execution_count": 47,
   "metadata": {},
   "outputs": [],
   "source": [
    "from sklearn.model_selection import train_test_split\n",
    "from sklearn.linear_model import LogisticRegression"
   ]
  },
  {
   "cell_type": "code",
   "execution_count": 100,
   "metadata": {},
   "outputs": [
    {
     "name": "stdout",
     "output_type": "stream",
     "text": [
      "(3760, 8)\n",
      "(664, 8)\n"
     ]
    }
   ],
   "source": [
    "train_df, test_df = train_test_split(new_df, test_size=0.15, random_state=42, shuffle=True)\n",
    "train_df.reset_index(drop=True, inplace=True)\n",
    "test_df.reset_index(drop=True, inplace=True)\n",
    " \n",
    "print(train_df.shape)\n",
    "print(test_df.shape)"
   ]
  },
  {
   "cell_type": "markdown",
   "metadata": {},
   "source": [
    "Membagi Dataframe menjadi train dan test dengan porsi 85% untuk train dan 15% untuk test"
   ]
  },
  {
   "cell_type": "code",
   "execution_count": 101,
   "metadata": {},
   "outputs": [
    {
     "data": {
      "text/plain": [
       "0    2576\n",
       "1    1184\n",
       "Name: Status, dtype: int64"
      ]
     },
     "execution_count": 101,
     "metadata": {},
     "output_type": "execute_result"
    }
   ],
   "source": [
    "train_df.Status.value_counts()"
   ]
  },
  {
   "cell_type": "markdown",
   "metadata": {},
   "source": [
    "detail ketimpangan hasil pada labelnya, sehingga perlu menyamakan data labelnya dengan status *Non-Dropout* yang 2576 menjadi 1184"
   ]
  },
  {
   "cell_type": "code",
   "execution_count": 102,
   "metadata": {},
   "outputs": [],
   "source": [
    "df_majority_1 = train_df[(train_df.Status == 0)]\n",
    "df_minority = train_df[(train_df.Status == 1)]"
   ]
  },
  {
   "cell_type": "markdown",
   "metadata": {},
   "source": [
    "Membagi data menjadi dua sesuai dengan labelnya"
   ]
  },
  {
   "cell_type": "code",
   "execution_count": 103,
   "metadata": {},
   "outputs": [
    {
     "name": "stdout",
     "output_type": "stream",
     "text": [
      "(1184, 8)\n"
     ]
    }
   ],
   "source": [
    "from sklearn.utils import resample\n",
    "\n",
    "df_majority_1_undersampled = resample(df_majority_1, n_samples=1184, random_state=42)\n",
    "\n",
    "print(df_majority_1_undersampled.shape)"
   ]
  },
  {
   "cell_type": "markdown",
   "metadata": {},
   "source": [
    "Melakukan sampling dengan mengambil data sebanyak 1184 dari Dataframe dengan status *Non-Dropout*"
   ]
  },
  {
   "cell_type": "code",
   "execution_count": 104,
   "metadata": {},
   "outputs": [
    {
     "data": {
      "text/html": [
       "<div>\n",
       "<style scoped>\n",
       "    .dataframe tbody tr th:only-of-type {\n",
       "        vertical-align: middle;\n",
       "    }\n",
       "\n",
       "    .dataframe tbody tr th {\n",
       "        vertical-align: top;\n",
       "    }\n",
       "\n",
       "    .dataframe thead th {\n",
       "        text-align: right;\n",
       "    }\n",
       "</style>\n",
       "<table border=\"1\" class=\"dataframe\">\n",
       "  <thead>\n",
       "    <tr style=\"text-align: right;\">\n",
       "      <th></th>\n",
       "      <th>Gender</th>\n",
       "      <th>Marital_status</th>\n",
       "      <th>Age_at_enrollment</th>\n",
       "      <th>Scholarship_holder</th>\n",
       "      <th>Debtor</th>\n",
       "      <th>Curricular_units_1st_sem_grade</th>\n",
       "      <th>Curricular_units_2nd_sem_grade</th>\n",
       "      <th>Status</th>\n",
       "    </tr>\n",
       "  </thead>\n",
       "  <tbody>\n",
       "    <tr>\n",
       "      <th>1415</th>\n",
       "      <td>0</td>\n",
       "      <td>1</td>\n",
       "      <td>19</td>\n",
       "      <td>1</td>\n",
       "      <td>0</td>\n",
       "      <td>0.000</td>\n",
       "      <td>12.200</td>\n",
       "      <td>0</td>\n",
       "    </tr>\n",
       "    <tr>\n",
       "      <th>2315</th>\n",
       "      <td>0</td>\n",
       "      <td>1</td>\n",
       "      <td>18</td>\n",
       "      <td>0</td>\n",
       "      <td>0</td>\n",
       "      <td>12.200</td>\n",
       "      <td>12.200</td>\n",
       "      <td>0</td>\n",
       "    </tr>\n",
       "    <tr>\n",
       "      <th>1088</th>\n",
       "      <td>0</td>\n",
       "      <td>1</td>\n",
       "      <td>19</td>\n",
       "      <td>1</td>\n",
       "      <td>0</td>\n",
       "      <td>147.875</td>\n",
       "      <td>158.625</td>\n",
       "      <td>0</td>\n",
       "    </tr>\n",
       "    <tr>\n",
       "      <th>2025</th>\n",
       "      <td>0</td>\n",
       "      <td>1</td>\n",
       "      <td>26</td>\n",
       "      <td>0</td>\n",
       "      <td>0</td>\n",
       "      <td>16.500</td>\n",
       "      <td>0.000</td>\n",
       "      <td>0</td>\n",
       "    </tr>\n",
       "    <tr>\n",
       "      <th>551</th>\n",
       "      <td>0</td>\n",
       "      <td>1</td>\n",
       "      <td>20</td>\n",
       "      <td>1</td>\n",
       "      <td>0</td>\n",
       "      <td>0.000</td>\n",
       "      <td>0.000</td>\n",
       "      <td>0</td>\n",
       "    </tr>\n",
       "  </tbody>\n",
       "</table>\n",
       "</div>"
      ],
      "text/plain": [
       "      Gender  Marital_status  Age_at_enrollment  Scholarship_holder  Debtor  \\\n",
       "1415       0               1                 19                   1       0   \n",
       "2315       0               1                 18                   0       0   \n",
       "1088       0               1                 19                   1       0   \n",
       "2025       0               1                 26                   0       0   \n",
       "551        0               1                 20                   1       0   \n",
       "\n",
       "      Curricular_units_1st_sem_grade  Curricular_units_2nd_sem_grade  Status  \n",
       "1415                           0.000                          12.200       0  \n",
       "2315                          12.200                          12.200       0  \n",
       "1088                         147.875                         158.625       0  \n",
       "2025                          16.500                           0.000       0  \n",
       "551                            0.000                           0.000       0  "
      ]
     },
     "execution_count": 104,
     "metadata": {},
     "output_type": "execute_result"
    }
   ],
   "source": [
    "from sklearn.utils import shuffle\n",
    " \n",
    "undersampled_train_df = pd.concat([df_minority, df_majority_1_undersampled]).reset_index(drop=True)\n",
    "undersampled_train_df = shuffle(undersampled_train_df, random_state=42)\n",
    "undersampled_train_df.reset_index(drop=True, inplace=True)\n",
    "undersampled_train_df.sample(5)"
   ]
  },
  {
   "cell_type": "markdown",
   "metadata": {},
   "source": [
    "Melakukan join 2 Dataframe yang sebelumnya terpisah antara *Non-Dropout* dan *Dropout* menjadi satu"
   ]
  },
  {
   "cell_type": "code",
   "execution_count": 105,
   "metadata": {},
   "outputs": [
    {
     "data": {
      "image/png": "[encoded data removed]",
      "text/plain": [
       "<Figure size 640x480 with 1 Axes>"
      ]
     },
     "metadata": {},
     "output_type": "display_data"
    }
   ],
   "source": [
    "sns.countplot(data=undersampled_train_df, x=\"Status\")\n",
    "plt.show()"
   ]
  },
  {
   "cell_type": "markdown",
   "metadata": {},
   "source": [
    "Visualisasi countplot diatas menjelaskan bahwa label telah memiliki jumlah data yang sama"
   ]
  },
  {
   "cell_type": "code",
   "execution_count": 106,
   "metadata": {},
   "outputs": [],
   "source": [
    "x_train = undersampled_train_df.drop(columns=\"Status\", axis=1)\n",
    "y_train = undersampled_train_df['Status']\n",
    "\n",
    "x_test = test_df.drop(columns=\"Status\", axis=1)\n",
    "y_test = test_df['Status']"
   ]
  },
  {
   "cell_type": "markdown",
   "metadata": {},
   "source": [
    "Memecah Dataframe train dan test antara feature dan label"
   ]
  },
  {
   "cell_type": "code",
   "execution_count": 66,
   "metadata": {},
   "outputs": [],
   "source": [
    "from sklearn.preprocessing import MinMaxScaler"
   ]
  },
  {
   "cell_type": "code",
   "execution_count": 76,
   "metadata": {},
   "outputs": [],
   "source": [
    "col = ['Gender', 'Marital_status', 'Age_at_enrollment', 'Scholarship_holder', 'Debtor', \n",
    "             'Curricular_units_1st_sem_grade', 'Curricular_units_2nd_sem_grade']"
   ]
  },
  {
   "cell_type": "code",
   "execution_count": 134,
   "metadata": {},
   "outputs": [
    {
     "data": {
      "text/html": [
       "<div>\n",
       "<style scoped>\n",
       "    .dataframe tbody tr th:only-of-type {\n",
       "        vertical-align: middle;\n",
       "    }\n",
       "\n",
       "    .dataframe tbody tr th {\n",
       "        vertical-align: top;\n",
       "    }\n",
       "\n",
       "    .dataframe thead th {\n",
       "        text-align: right;\n",
       "    }\n",
       "</style>\n",
       "<table border=\"1\" class=\"dataframe\">\n",
       "  <thead>\n",
       "    <tr style=\"text-align: right;\">\n",
       "      <th></th>\n",
       "      <th>Gender</th>\n",
       "      <th>Marital_status</th>\n",
       "      <th>Age_at_enrollment</th>\n",
       "      <th>Scholarship_holder</th>\n",
       "      <th>Debtor</th>\n",
       "      <th>Curricular_units_1st_sem_grade</th>\n",
       "      <th>Curricular_units_2nd_sem_grade</th>\n",
       "    </tr>\n",
       "  </thead>\n",
       "  <tbody>\n",
       "    <tr>\n",
       "      <th>1768</th>\n",
       "      <td>0.0</td>\n",
       "      <td>1.0</td>\n",
       "      <td>0.056604</td>\n",
       "      <td>0.0</td>\n",
       "      <td>0.0</td>\n",
       "      <td>0.000000</td>\n",
       "      <td>0.000000</td>\n",
       "    </tr>\n",
       "    <tr>\n",
       "      <th>1312</th>\n",
       "      <td>0.0</td>\n",
       "      <td>0.0</td>\n",
       "      <td>0.339623</td>\n",
       "      <td>0.0</td>\n",
       "      <td>0.0</td>\n",
       "      <td>0.000000</td>\n",
       "      <td>0.000000</td>\n",
       "    </tr>\n",
       "    <tr>\n",
       "      <th>1062</th>\n",
       "      <td>0.0</td>\n",
       "      <td>0.0</td>\n",
       "      <td>0.188679</td>\n",
       "      <td>0.0</td>\n",
       "      <td>0.0</td>\n",
       "      <td>0.073764</td>\n",
       "      <td>0.065268</td>\n",
       "    </tr>\n",
       "  </tbody>\n",
       "</table>\n",
       "</div>"
      ],
      "text/plain": [
       "      Gender  Marital_status  Age_at_enrollment  Scholarship_holder  Debtor  \\\n",
       "1768     0.0             1.0           0.056604                 0.0     0.0   \n",
       "1312     0.0             0.0           0.339623                 0.0     0.0   \n",
       "1062     0.0             0.0           0.188679                 0.0     0.0   \n",
       "\n",
       "      Curricular_units_1st_sem_grade  Curricular_units_2nd_sem_grade  \n",
       "1768                        0.000000                        0.000000  \n",
       "1312                        0.000000                        0.000000  \n",
       "1062                        0.073764                        0.065268  "
      ]
     },
     "execution_count": 134,
     "metadata": {},
     "output_type": "execute_result"
    }
   ],
   "source": [
    "x_train[col].sample(3)"
   ]
  },
  {
   "cell_type": "code",
   "execution_count": 107,
   "metadata": {},
   "outputs": [],
   "source": [
    "scaler = MinMaxScaler()\n",
    "scaler.fit(x_train)\n",
    "x_train[col] = scaler.transform(x_train[col])"
   ]
  },
  {
   "cell_type": "markdown",
   "metadata": {},
   "source": [
    "Normalisasi feature menggunakan MinMaxScaler, sehingga data pada feature hanya bernilai 0-1"
   ]
  },
  {
   "cell_type": "code",
   "execution_count": 133,
   "metadata": {
    "scrolled": true
   },
   "outputs": [
    {
     "data": {
      "text/html": [
       "<div>\n",
       "<style scoped>\n",
       "    .dataframe tbody tr th:only-of-type {\n",
       "        vertical-align: middle;\n",
       "    }\n",
       "\n",
       "    .dataframe tbody tr th {\n",
       "        vertical-align: top;\n",
       "    }\n",
       "\n",
       "    .dataframe thead th {\n",
       "        text-align: right;\n",
       "    }\n",
       "</style>\n",
       "<table border=\"1\" class=\"dataframe\">\n",
       "  <thead>\n",
       "    <tr style=\"text-align: right;\">\n",
       "      <th></th>\n",
       "      <th>Gender</th>\n",
       "      <th>Marital_status</th>\n",
       "      <th>Age_at_enrollment</th>\n",
       "      <th>Scholarship_holder</th>\n",
       "      <th>Debtor</th>\n",
       "      <th>Curricular_units_1st_sem_grade</th>\n",
       "      <th>Curricular_units_2nd_sem_grade</th>\n",
       "    </tr>\n",
       "  </thead>\n",
       "  <tbody>\n",
       "    <tr>\n",
       "      <th>1663</th>\n",
       "      <td>1.0</td>\n",
       "      <td>1.0</td>\n",
       "      <td>0.132075</td>\n",
       "      <td>0.0</td>\n",
       "      <td>1.0</td>\n",
       "      <td>0.000000</td>\n",
       "      <td>0.000000</td>\n",
       "    </tr>\n",
       "    <tr>\n",
       "      <th>846</th>\n",
       "      <td>1.0</td>\n",
       "      <td>1.0</td>\n",
       "      <td>0.433962</td>\n",
       "      <td>0.0</td>\n",
       "      <td>0.0</td>\n",
       "      <td>0.087175</td>\n",
       "      <td>0.087024</td>\n",
       "    </tr>\n",
       "    <tr>\n",
       "      <th>146</th>\n",
       "      <td>0.0</td>\n",
       "      <td>1.0</td>\n",
       "      <td>0.037736</td>\n",
       "      <td>0.0</td>\n",
       "      <td>1.0</td>\n",
       "      <td>0.080201</td>\n",
       "      <td>0.000000</td>\n",
       "    </tr>\n",
       "  </tbody>\n",
       "</table>\n",
       "</div>"
      ],
      "text/plain": [
       "      Gender  Marital_status  Age_at_enrollment  Scholarship_holder  Debtor  \\\n",
       "1663     1.0             1.0           0.132075                 0.0     1.0   \n",
       "846      1.0             1.0           0.433962                 0.0     0.0   \n",
       "146      0.0             1.0           0.037736                 0.0     1.0   \n",
       "\n",
       "      Curricular_units_1st_sem_grade  Curricular_units_2nd_sem_grade  \n",
       "1663                        0.000000                        0.000000  \n",
       "846                         0.087175                        0.087024  \n",
       "146                         0.080201                        0.000000  "
      ]
     },
     "execution_count": 133,
     "metadata": {},
     "output_type": "execute_result"
    }
   ],
   "source": [
    "x_train.sample(3)"
   ]
  },
  {
   "cell_type": "markdown",
   "metadata": {},
   "source": [
    "Data yang telah dinormalisasikan dan telah memiliki label yang sama"
   ]
  },
  {
   "cell_type": "markdown",
   "metadata": {},
   "source": [
    "## Modelling"
   ]
  },
  {
   "cell_type": "code",
   "execution_count": 108,
   "metadata": {},
   "outputs": [
    {
     "data": {
      "text/html": [
       "<style>#sk-container-id-3 {color: black;}#sk-container-id-3 pre{padding: 0;}#sk-container-id-3 div.sk-toggleable {background-color: white;}#sk-container-id-3 label.sk-toggleable__label {cursor: pointer;display: block;width: 100%;margin-bottom: 0;padding: 0.3em;box-sizing: border-box;text-align: center;}#sk-container-id-3 label.sk-toggleable__label-arrow:before {content: \"▸\";float: left;margin-right: 0.25em;color: #696969;}#sk-container-id-3 label.sk-toggleable__label-arrow:hover:before {color: black;}#sk-container-id-3 div.sk-estimator:hover label.sk-toggleable__label-arrow:before {color: black;}#sk-container-id-3 div.sk-toggleable__content {max-height: 0;max-width: 0;overflow: hidden;text-align: left;background-color: #f0f8ff;}#sk-container-id-3 div.sk-toggleable__content pre {margin: 0.2em;color: black;border-radius: 0.25em;background-color: #f0f8ff;}#sk-container-id-3 input.sk-toggleable__control:checked~div.sk-toggleable__content {max-height: 200px;max-width: 100%;overflow: auto;}#sk-container-id-3 input.sk-toggleable__control:checked~label.sk-toggleable__label-arrow:before {content: \"▾\";}#sk-container-id-3 div.sk-estimator input.sk-toggleable__control:checked~label.sk-toggleable__label {background-color: #d4ebff;}#sk-container-id-3 div.sk-label input.sk-toggleable__control:checked~label.sk-toggleable__label {background-color: #d4ebff;}#sk-container-id-3 input.sk-hidden--visually {border: 0;clip: rect(1px 1px 1px 1px);clip: rect(1px, 1px, 1px, 1px);height: 1px;margin: -1px;overflow: hidden;padding: 0;position: absolute;width: 1px;}#sk-container-id-3 div.sk-estimator {font-family: monospace;background-color: #f0f8ff;border: 1px dotted black;border-radius: 0.25em;box-sizing: border-box;margin-bottom: 0.5em;}#sk-container-id-3 div.sk-estimator:hover {background-color: #d4ebff;}#sk-container-id-3 div.sk-parallel-item::after {content: \"\";width: 100%;border-bottom: 1px solid gray;flex-grow: 1;}#sk-container-id-3 div.sk-label:hover label.sk-toggleable__label {background-color: #d4ebff;}#sk-container-id-3 div.sk-serial::before {content: \"\";position: absolute;border-left: 1px solid gray;box-sizing: border-box;top: 0;bottom: 0;left: 50%;z-index: 0;}#sk-container-id-3 div.sk-serial {display: flex;flex-direction: column;align-items: center;background-color: white;padding-right: 0.2em;padding-left: 0.2em;position: relative;}#sk-container-id-3 div.sk-item {position: relative;z-index: 1;}#sk-container-id-3 div.sk-parallel {display: flex;align-items: stretch;justify-content: center;background-color: white;position: relative;}#sk-container-id-3 div.sk-item::before, #sk-container-id-3 div.sk-parallel-item::before {content: \"\";position: absolute;border-left: 1px solid gray;box-sizing: border-box;top: 0;bottom: 0;left: 50%;z-index: -1;}#sk-container-id-3 div.sk-parallel-item {display: flex;flex-direction: column;z-index: 1;position: relative;background-color: white;}#sk-container-id-3 div.sk-parallel-item:first-child::after {align-self: flex-end;width: 50%;}#sk-container-id-3 div.sk-parallel-item:last-child::after {align-self: flex-start;width: 50%;}#sk-container-id-3 div.sk-parallel-item:only-child::after {width: 0;}#sk-container-id-3 div.sk-dashed-wrapped {border: 1px dashed gray;margin: 0 0.4em 0.5em 0.4em;box-sizing: border-box;padding-bottom: 0.4em;background-color: white;}#sk-container-id-3 div.sk-label label {font-family: monospace;font-weight: bold;display: inline-block;line-height: 1.2em;}#sk-container-id-3 div.sk-label-container {text-align: center;}#sk-container-id-3 div.sk-container {/* jupyter's `normalize.less` sets `[hidden] { display: none; }` but bootstrap.min.css set `[hidden] { display: none !important; }` so we also need the `!important` here to be able to override the default hidden behavior on the sphinx rendered scikit-learn.org. See: https://github.com/scikit-learn/scikit-learn/issues/21755 */display: inline-block !important;position: relative;}#sk-container-id-3 div.sk-text-repr-fallback {display: none;}</style><div id=\"sk-container-id-3\" class=\"sk-top-container\"><div class=\"sk-text-repr-fallback\"><pre>LogisticRegression()</pre><b>In a Jupyter environment, please rerun this cell to show the HTML representation or trust the notebook. <br />On GitHub, the HTML representation is unable to render, please try loading this page with nbviewer.org.</b></div><div class=\"sk-container\" hidden><div class=\"sk-item\"><div class=\"sk-estimator sk-toggleable\"><input class=\"sk-toggleable__control sk-hidden--visually\" id=\"sk-estimator-id-3\" type=\"checkbox\" checked><label for=\"sk-estimator-id-3\" class=\"sk-toggleable__label sk-toggleable__label-arrow\">LogisticRegression</label><div class=\"sk-toggleable__content\"><pre>LogisticRegression()</pre></div></div></div></div></div>"
      ],
      "text/plain": [
       "LogisticRegression()"
      ]
     },
     "execution_count": 108,
     "metadata": {},
     "output_type": "execute_result"
    }
   ],
   "source": [
    "logmodel = LogisticRegression()\n",
    "logmodel.fit(x_train,y_train)"
   ]
  },
  {
   "cell_type": "markdown",
   "metadata": {},
   "source": [
    "Modeling train data menggunakan algoritma logistic regression"
   ]
  },
  {
   "cell_type": "markdown",
   "metadata": {},
   "source": [
    "## Evaluation"
   ]
  },
  {
   "cell_type": "code",
   "execution_count": 83,
   "metadata": {},
   "outputs": [],
   "source": [
    "from sklearn.metrics import classification_report, confusion_matrix"
   ]
  },
  {
   "cell_type": "code",
   "execution_count": 120,
   "metadata": {},
   "outputs": [
    {
     "name": "stdout",
     "output_type": "stream",
     "text": [
      "              precision    recall  f1-score   support\n",
      "\n",
      "           0       0.79      0.33      0.46       427\n",
      "           1       0.41      0.85      0.55       237\n",
      "\n",
      "    accuracy                           0.51       664\n",
      "   macro avg       0.60      0.59      0.51       664\n",
      "weighted avg       0.66      0.51      0.49       664\n",
      "\n"
     ]
    }
   ],
   "source": [
    "predictions = logmodel.predict(x_test)\n",
    "print(classification_report(y_test,predictions))"
   ]
  },
  {
   "cell_type": "markdown",
   "metadata": {},
   "source": [
    "melalui confusion matrix, diketahui model yang dikembangkan mendapatkan akurasi sebesar **51%**"
   ]
  },
  {
   "cell_type": "code",
   "execution_count": 132,
   "metadata": {
    "scrolled": false
   },
   "outputs": [
    {
     "data": {
      "image/png": "[encoded data removed]",
      "text/plain": [
       "<Figure size 640x480 with 2 Axes>"
      ]
     },
     "metadata": {},
     "output_type": "display_data"
    }
   ],
   "source": [
    "label = ['Non-Dropout', 'Dropout']\n",
    "sns.heatmap(conf_m, annot=True, annot_kws={'size': 14}, fmt='d', cmap='YlGnBu', \n",
    "            xticklabels=label, yticklabels=label)\n",
    "plt.ylabel('True label', fontsize=15)\n",
    "plt.xlabel('Predicted label', fontsize=15)\n",
    "plt.show()"
   ]
  },
  {
   "cell_type": "markdown",
   "metadata": {},
   "source": [
    "Berikut merupakan hasil evaluasi dari modelnya:\n",
    "- 139 adalah jumlah negatif sebenarnya (TN), yang berarti negatif sebenarnya yang diklasifikasikan dengan benar sebagai negatif.\n",
    "- 201 adalah jumlah positif sebenarnya (TP), yang berarti positif sebenarnya yang diklasifikasikan dengan benar sebagai positif.\n",
    "- 36 adalah jumlah negatif palsu (FN), yang berarti positif sebenarnya yang diklasifikasikan secara salah sebagai negatif.\n",
    "- 288 adalah jumlah positif palsu (FP), yang berarti negatif sebenarnya yang diklasifikasikan secara salah sebagai positif."
   ]
  },
  {
   "cell_type": "markdown",
   "metadata": {},
   "source": [
    "export model logistic regression"
   ]
  },
  {
   "cell_type": "code",
   "execution_count": 140,
   "metadata": {},
   "outputs": [
    {
     "data": {
      "text/plain": [
       "['model.pkl']"
      ]
     },
     "execution_count": 140,
     "metadata": {},
     "output_type": "execute_result"
    }
   ],
   "source": [
    "import joblib\n",
    "joblib.dump(logmodel, 'model.pkl')"
   ]
  }
 ],
 "metadata": {
  "kernelspec": {
   "display_name": "Python 3 (ipykernel)",
   "language": "python",
   "name": "python3"
  },
  "language_info": {
   "codemirror_mode": {
    "name": "ipython",
    "version": 3
   },
   "file_extension": ".py",
   "mimetype": "text/x-python",
   "name": "python",
   "nbconvert_exporter": "python",
   "pygments_lexer": "ipython3",
   "version": "3.10.9"
  }
 },
 "nbformat": 4,
 "nbformat_minor": 2
}
